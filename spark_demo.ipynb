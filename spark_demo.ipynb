{
 "cells": [
  {
   "cell_type": "markdown",
   "metadata": {},
   "source": [
    "# 0 初始化Spark"
   ]
  },
  {
   "cell_type": "code",
   "execution_count": 3,
   "metadata": {},
   "outputs": [],
   "source": [
    "from pyspark import SparkConf, SparkContext"
   ]
  },
  {
   "cell_type": "code",
   "execution_count": 4,
   "metadata": {},
   "outputs": [],
   "source": [
    "conf = SparkConf().setMaster(\"local\").setAppName(\"My App\") # master：运行模式，默认local[*]"
   ]
  },
  {
   "cell_type": "code",
   "execution_count": 5,
   "metadata": {},
   "outputs": [],
   "source": [
    "sc = SparkContext(conf = conf)"
   ]
  },
  {
   "cell_type": "markdown",
   "metadata": {},
   "source": [
    "# 方式一：RDD 操作数据"
   ]
  },
  {
   "cell_type": "markdown",
   "metadata": {},
   "source": [
    "基本“转换”运算"
   ]
  },
  {
   "cell_type": "code",
   "execution_count": 44,
   "metadata": {},
   "outputs": [
    {
     "name": "stdout",
     "output_type": "stream",
     "text": [
      "Desktop/lexisnexis_worldcompliance_entities.csv MapPartitionsRDD[15] at textFile at NativeMethodAccessorImpl.java:0\n"
     ]
    }
   ],
   "source": [
    "# 读取外部数据\n",
    "textfile = sc.textFile(\"Desktop/lexisnexis_pg_test1.csv\")\n",
    "print(lines)"
   ]
  },
  {
   "cell_type": "code",
   "execution_count": 54,
   "metadata": {},
   "outputs": [],
   "source": [
    "stringRDD = textfile.flatMap(lambda line:line.split(\",\")) # 文件的每一行按照空格拆分\n",
    "#countsRDD = stringRDD.map(lambda word: (word, 1)).reduceByKey(lambda x,y:x+y)"
   ]
  },
  {
   "cell_type": "code",
   "execution_count": 55,
   "metadata": {},
   "outputs": [
    {
     "data": {
      "text/plain": [
       "['\"Ent_ID\"',\n",
       " '\"Name\"',\n",
       " '\"FirstName\"',\n",
       " '\"LastName\"',\n",
       " '\"Prefix\"',\n",
       " '\"Suffix\"',\n",
       " '\"Aka\"',\n",
       " '\"NameSource\"',\n",
       " '\"ParentID\"',\n",
       " '\"GovDesignation\"',\n",
       " '\"EntryType\"',\n",
       " '\"EntryCategory\"',\n",
       " '\"EntrySubCategory\"',\n",
       " '\"Organization\"',\n",
       " '\"Positions\"',\n",
       " '\"Remarks\"',\n",
       " '\"DOB\"',\n",
       " '\"POB\"',\n",
       " '\"Country\"',\n",
       " '\"ExpirationDate\"',\n",
       " '\"EffectiveDate\"',\n",
       " '\"PictureFile\"',\n",
       " '\"LinkedTo\"',\n",
       " '\"Related_ID\"',\n",
       " '\"SourceWebLink\"',\n",
       " '\"TouchDate\"',\n",
       " '\"DirectID\"',\n",
       " '\"PassportID\"',\n",
       " '\"NationalID\"',\n",
       " '\"OtherID\"',\n",
       " '\"DOB2\"',\n",
       " '\"EntLevel\"',\n",
       " '\"MasterID\"',\n",
       " '\"Watch\"',\n",
       " '\"Relationships\"',\n",
       " '\"PrimaryName\"',\n",
       " '\"OriginalName2\"',\n",
       " '\"Gender\"',\n",
       " '\"EY_DailyDeltaDate\"',\n",
       " '\"EY_DailyDeltaFilename\"',\n",
       " '\"1574372\"',\n",
       " '\"Skvortsova',\n",
       " ' Veronika Igorevna\"',\n",
       " '\"Veronika Igorevna\"',\n",
       " '\"Skvortsova\"',\n",
       " '\"\"',\n",
       " '\"\"',\n",
       " '\"\"',\n",
       " '\"Website\"',\n",
       " '\"0\"',\n",
       " '\"\"',\n",
       " '\"Individual\"',\n",
       " '\"PEP\"',\n",
       " '\"Govt Branch Member\"',\n",
       " '\"\"',\n",
       " '\"Head of the Federal Biomedical Agency',\n",
       " ' effective from January 22',\n",
       " ' 2020.\"',\n",
       " '\"Career: Head',\n",
       " ' effective from January 22',\n",
       " ' 2020',\n",
       " ' Agency: Federal Biomedical Agency; Head of the Federal Service for Surveillance in Healthcare (Roszdravnadzor)',\n",
       " ' effective from January 21',\n",
       " ' 2020; Member of the Supervisory Board of the State Corporation Rostec',\n",
       " ' effective from September 2018; Acting Minister of Healthcare (January 15',\n",
       " ' 2020 - January 21',\n",
       " ' 2020); Member of the Executive Board of the World Health Organization (2014 - 2017); Minister of Healthcare (May 21',\n",
       " ' 2012 - January 15',\n",
       " ' 2020); Deputy Minister of Healthcare and Social Development (July 15',\n",
       " ' 2008 - May 22',\n",
       " ' 2012).  Company name: State Corporation Rostec.\"',\n",
       " '\"November 01',\n",
       " ' 1960\"',\n",
       " '\"Moscow',\n",
       " ' ',\n",
       " ' Russia\"',\n",
       " '\"Russian Federation\"',\n",
       " '\"\"',\n",
       " '\"2020\"',\n",
       " '\"\\\\Russia\\\\1574372.png\"',\n",
       " '\"\"',\n",
       " '\"0\"',\n",
       " '\"http://fmbaros.ru/o-fmba-rossii/rukovoditel/;https://tass.ru/encyclopedia/person/skvorcova-veronika-igorevna;https://rostec.ru/about/controls/veronika-igorevna-skvortsova/;https://regnum.ru/news/polit/2835804.html;http://kremlin.ru/acts/news/62587;http://fmbaros.ru/o-fmba-rossii/struktura/;https://rostec.ru/about/controls/#advisory;http://kremlin.ru/events/president/news/57495;http://zampolit.com/dossier/skvortsova-veronika-igorevna/;http://tass.ru/arhiv/598117;https://www.cia.gov/library/publications/resources/world-leaders-1/RS.html;http://cop6russia.org/the-minister-of-healthcare-of-the-russian-federation-veronika-skvortsova-met-the-new-head-of-the-secretariat-of-the-who-framework-convention-on-tobacco-control-dr-vera-luiza-da-costa-e-silva/;http://www.who.int/governance/eb/eb_members/en/;http://www.rosminzdrav.ru/ministry/61/15;http://www.kremlin.ru/news/46829;http://kommersant.ru/doc/2097273\"',\n",
       " '\"2/3/2020 1:03:48 AM\"',\n",
       " '\"5a47a8bd-80dc-4a31-b114-9909c9439a42\"',\n",
       " '\"\"',\n",
       " '\"\"',\n",
       " '\"\"',\n",
       " '\"\"',\n",
       " '\"National\"',\n",
       " '\"0\"',\n",
       " '\"0\"',\n",
       " '\"1\"',\n",
       " '\"Вероника Игоревна Скворцова\"',\n",
       " '\"\"',\n",
       " '\"F\"',\n",
       " '\"2020/7/20\"',\n",
       " '\"./ErnstYoungChinaAdvisory/2020-07-20/WorldCompliance_2020-07-20.zip_files\\\\WorldCompliance_2020-07-20.xml\"',\n",
       " '\"1574701\"',\n",
       " '\"Alperovich',\n",
       " ' José Jorge\"',\n",
       " '\"José Jorge\"',\n",
       " '\"Alperovich\"',\n",
       " '\"\"',\n",
       " '\"\"',\n",
       " '\"\"',\n",
       " '\"Website\"',\n",
       " '\"0\"',\n",
       " '\"\"',\n",
       " '\"Individual\"',\n",
       " '\"PEP\"',\n",
       " '\"Govt Branch Member\"',\n",
       " '\"\"',\n",
       " '\"Member of the National Congress (December 10',\n",
       " ' 2015 - December 09',\n",
       " ' 2021).\"',\n",
       " '\"According to clarin.com; March 15',\n",
       " ' 2017: in the framework of the case that investigates the crimes of embezzlement of public funds and defraud in Tucumán',\n",
       " ' on March 15',\n",
       " ' 2017 the prosecutor Carlos Stornelli decided to summon Julio De Vido',\n",
       " ' José López and José Alperovich for declaration. This case investigates an alleged fraud that caused a loss of ARS 20',\n",
       " '000',\n",
       " '000 to the province of Tucumán',\n",
       " ' through the embezzlement of public funds destined to the program called “Más cerca”. Some of the homes of this program were unfinished or were never even started.   Political party: Frente para la Victoria (FpV).  Career:  Member of the National Congress',\n",
       " ' Honorable Senate of the Nation from Tucumán (December 10',\n",
       " ' 2015 - December 09',\n",
       " ' 2021); Governor of Tucumán (October 29',\n",
       " ' 2003- October 28',\n",
       " ' 2015); Member of the National Congress',\n",
       " ' Honorable Senate of the Nation from Tucumán  (December 10',\n",
       " ' 2001 - October 28',\n",
       " ' 2003); Minister of Economy of Tucumán (1999 - 2001); Member of the Honorable Legislature of Tucumán (1995 - 1999).   De acuerdo con clarin.com; Marzo 15',\n",
       " ' 2017: en el marco de la causa que investiga los delitos de malversación de caudales públicos y defraudación en Tucumán',\n",
       " ' en Marzo 15',\n",
       " ' 2017 el fiscal Carlos Stornelli citó a declaratoria a Julio De Vido',\n",
       " ' José López y José Alperovich. Esta causa investiga el presunto fraude que ocasionó una pérdida de ARS 20 000 000 a la provincia de Tucumán',\n",
       " ' a través de la malversación de fondos públicos destinados al programa “Más cerca”. Algunas de las viviendas de este programa quedaron inconclusas o nunca iniciaron su construcción.  Partido político: Frente para la Victoria (FpV).  Trayectoria:  Miembro del Congreso de la Nación',\n",
       " ' Honorable Senado de la Nación por Tucumán (Diciembre 10',\n",
       " ' 2015 - Diciembre 09',\n",
       " ' 2021); Gobernador de Tucumán (Octubre 29',\n",
       " ' 2003 - Octubre 28',\n",
       " ' 2015); Miembro del Congreso de la Nación',\n",
       " ' Honorable Senado de la Nación por Tucumán (Diciembre 10',\n",
       " ' 2001 - Octubre 28',\n",
       " ' 2003); Ministro de Economía de Tucumán (1999 - 2001); Miembro de la Honorable Legislatura de Tucumán (1995 - 1999).\"',\n",
       " '\"April 13',\n",
       " ' 1955\"',\n",
       " '\"Banda del Río Salí',\n",
       " ' Tucumán',\n",
       " ' Argentina\"',\n",
       " '\"Argentina\"',\n",
       " '\"2021\"',\n",
       " '\"2015\"',\n",
       " '\"\\\\Argentina\\\\1574701.png\"',\n",
       " '\"\"',\n",
       " '\"0\"',\n",
       " '\"https://web.archive.org/web/20190407042136/https://www.legislaturadetucuman.gob.ar/;https://web.archive.org/web/20190625191739/http://josealperovich.com.ar/;https://directorio.directoriolegislativo.org/legislador/jos%C3%A9-jorge-alperovich;https://www.infobae.com/2013/12/12/1530317-en-tucuman-atacaron-una-las-concesionarias-la-familia-alperovich/;https://www2.jus.gov.ar/consultaddjj/Home/Busqueda;https://serviciosweb.afip.gob.ar/consultas/;https://www.lanacion.com.ar/2156800-paulina-lebbos-otro-crimen-que-interpela-al-poder-politico;http://www.lavoz.com.ar/sucesos/lebbos-volvio-apuntar-contra-alperovich;https://tn.com.ar/politica/piden-indagar-de-vido-jose-lopez-y-alperovich-por-defraudacion-con-obra-publica_779814;https://www.infobae.com/politica/2017/03/15/pidieron-la-indagatoria-de-julio-de-vido-jose-lopez-y-jose-alperovich-por-otro-caso-de-corrupcion-con-obra-publica/;https://www.clarin.com/politica/pidieron-indagatoria-julio-vido-jose-lopez-alperovich-fraude-millonario-tucuman_0_SJrS5-Die.html;http://www.lagaceta.com.ar/nota/659072/politica/si-soy-tan-malo-caudillista-como-me-voy-51porciento-votos-despues-12-anos.html;http://www.cij.gov.ar/nota-25002-Casaci-n-federal-valid--investigaci-n-de-un-fiscal-de-Tucum-n-por-declaraciones-en-un-acto-de-Jos--Alperovich.html;https://web.archive.org/web/20161130173926/http://www.senado.gov.ar/senadores/senador/327;http://www.cij.gov.ar/nota-21729-Casaci-n-Federal-revisar--actuaci-n-del-fiscal-en-causa-contra-de-Alperovich.html;http://www.elliberal.com.ar/movil/ampliada.php?ID=224676;http://www.senado.gov.ar/senadores/senador/327;http://www.lagaceta.com.ar/nota/56087/notas-tapa/jose-alperovich-asumio-como-gobernador-provincia.html;http://www.treslineas.com.ar/jose-alperovich-bio-345.html;http://electoraltucuman.gov.ar/files/ELECCIONES%202011/JUNTA%20-%20Candidatos%20Oficializados%20(2011-08-24).pdf;http://electoraltucuman.gov.ar/files/Resolucion%20539%20-%20Proclamacion%20de%20Candidatos.pdf\"',\n",
       " '\"7/3/2020 12:00:39 PM\"',\n",
       " '\"aba74a29-eaa4-4b07-a897-904ee7f5bab3\"',\n",
       " '\"\"',\n",
       " '\"11708616\"',\n",
       " '\"20117086160\"',\n",
       " '\"\"',\n",
       " '\"National\"',\n",
       " '\"0\"',\n",
       " '\"1\"',\n",
       " '\"1\"',\n",
       " '\"\"',\n",
       " '\"\"',\n",
       " '\"M\"',\n",
       " '\"2020/7/20\"',\n",
       " '\"./ErnstYoungChinaAdvisory/2020-07-20/WorldCompliance_2020-07-17.zip_files\\\\WorldCompliance_2020-07-17.xml\"',\n",
       " '\"1575309\"',\n",
       " '\"Erwin',\n",
       " ' Kevin\"',\n",
       " '\"Kevin\"',\n",
       " '\"Erwin\"',\n",
       " '\"\"',\n",
       " '\"\"',\n",
       " '\"\"',\n",
       " '\"US-AO-WDMI\"',\n",
       " '\"0\"',\n",
       " '\"\"',\n",
       " '\"Individual\"',\n",
       " '\"Enforcement\"',\n",
       " '\"Bank Fraud\"',\n",
       " '\"\"',\n",
       " '\"Sentenced to 120 months in prison for forgery and bank fraud - January 13',\n",
       " ' 2010.\"',\n",
       " '\"According to the Federal Bureau of Prisons; as of January 05',\n",
       " ' 2015: Name: KEVIN ERWIN Register Number: 12412-111 Age: 48 Sex: Male Located at: Three Rivers FCI Release Date: October 21',\n",
       " ' 2019.  According to U.S. Courts; January 13',\n",
       " ' 2010: On January 13',\n",
       " ' 2010',\n",
       " ' Kevin Erwin',\n",
       " ' was sentenced to 120 months in prison',\n",
       " ' ordered to pay USD 707',\n",
       " '526.18 restitution and to serve five years of supervised release for identity theft and bank fraud.  According to United States Attorney - Western District of Michigan; April 24',\n",
       " ' 2009: On April 23',\n",
       " ' 2009 Kevin Erwin was indicted for forgery and bank fraud. U.S. Attorney Donald A. Davis announced the filing yesterday of the third indictment in the on-going investigation of an alleged identity theft and bank fraud ring based in Oakland',\n",
       " ' California. The filing of this latest indictment brings the total number of defendants to 14',\n",
       " ' including a former Bank of America (BOA) employee who allegedly assisted the fraud ring by selling account information and personal identifying information of BOA account holders',\n",
       " ' information that was then used to make fraudulent high-value cash withdrawals from BOA branches across the United States',\n",
       " ' including the Western District of Michigan. The case came to light on January 09',\n",
       " ' 2008',\n",
       " ' when employees of a BOA branch in Grand Rapids notified the Wyoming Police Department that a person had just attempted to make a large cash withdrawal under suspicious circumstances. Wyoming officers responded within minutes and arrested four suspects as they were driving away from the bank branch.\"',\n",
       " '\"1966\"',\n",
       " '\"\"',\n",
       " '\"United States\"',\n",
       " '\"\"',\n",
       " '\"\"',\n",
       " '\"\"',\n",
       " '\"\"',\n",
       " '\"0\"',\n",
       " '\"http://web.archive.org/web/20090510115135/http://www.usdoj.gov/usao/miw/press/AHolloway_Others04242009.html;https://www.uscourts.gov/;https://members.worldcompliance.com/Article.aspx?id=e6f20396-c6f9-4f44-99e8-a0a5b4009a4d;https://members.worldcompliance.com/Article.aspx?id=b6172743-6916-49c1-bba6-b11f17d7e9e4;https://members.worldcompliance.com/Article.aspx?id=734a4001-b66e-4476-9dfa-e7874bbc6862;http://www.bop.gov/inmateloc/#\"',\n",
       " '\"7/14/2020 11:22:07 PM\"',\n",
       " '\"5fcd6e49-22d1-490b-9d3b-049a1633d182\"',\n",
       " '\"\"',\n",
       " '\"\"',\n",
       " '\"12412-111\"',\n",
       " '\"1967\"',\n",
       " '\"N/A\"',\n",
       " '\"0\"',\n",
       " '\"0\"',\n",
       " '\"1\"',\n",
       " '\"\"',\n",
       " '\"\"',\n",
       " '\"M\"',\n",
       " '\"2020/7/20\"',\n",
       " '\"./ErnstYoungChinaAdvisory/2020-07-20/WorldCompliance_2020-07-16.zip_files\\\\WorldCompliance_2020-07-16.xml\"',\n",
       " '\"1575311\"',\n",
       " '\"Bruce',\n",
       " ' Doneisha Lanee\"',\n",
       " '\"Doneisha Lanee\"',\n",
       " '\"Bruce\"',\n",
       " '\"\"',\n",
       " '\"\"',\n",
       " '\"\"',\n",
       " '\"US-AO-WDMI\"',\n",
       " '\"0\"',\n",
       " '\"\"',\n",
       " '\"Individual\"',\n",
       " '\"Enforcement\"',\n",
       " '\"Bank Fraud\"',\n",
       " '\"\"',\n",
       " '\"Sentenced to 41 months in prison for forgery and bank fraud - January 09',\n",
       " ' 2010.\"',\n",
       " '\"According to U.S. Courts; January 09',\n",
       " ' 2010: On January 09',\n",
       " ' 2010 Doneisha Lanee Bruce',\n",
       " ' was sentenced to 41 months in prison',\n",
       " ' ordered to pay USD 187',\n",
       " '094.37 restitution and followed by four years of supervised release for identity theft and bank fraud.  According to United States Attorney - Western District of Michigan; April 24',\n",
       " ' 2009: On April 23',\n",
       " ' 2009  Doneisha Lanee Bruce was indicted for forgery and bank fraud. U.S. Attorney Donald A. Davis announced the filing yesterday of the third indictment in the on-going investigation of an alleged identity theft and bank fraud ring based in Oakland',\n",
       " ' California. The filing of this latest indictment brings the total number of defendants to 14',\n",
       " ' including a former Bank of America (BOA) employee who allegedly assisted the fraud ring by selling account information and personal identifying information of BOA account holders',\n",
       " ' information that was then used to make fraudulent high-value cash withdrawals from BOA branches across the United States',\n",
       " ' including the Western District of Michigan. The case came to light on January 09',\n",
       " ' 2008',\n",
       " ' when employees of a BOA branch in Grand Rapids notified the Wyoming Police Department that a person had just attempted to make a large cash withdrawal under suspicious circumstances. Wyoming officers responded within minutes and arrested four suspects as they were driving away from the bank branch.\"',\n",
       " '\"\"',\n",
       " '\"\"',\n",
       " '\"United States\"',\n",
       " '\"\"',\n",
       " '\"\"',\n",
       " '\"\"',\n",
       " '\"\"',\n",
       " '\"0\"',\n",
       " '\"http://web.archive.org/web/20090510115135/http://www.usdoj.gov/usao/miw/press/AHolloway_Others04242009.html;https://www.uscourts.gov/;https://members.worldcompliance.com/Article.aspx?id=e6f20396-c6f9-4f44-99e8-a0a5b4009a4d;https://members.worldcompliance.com/Article.aspx?id=b6172743-6916-49c1-bba6-b11f17d7e9e4;https://members.worldcompliance.com/Article.aspx?id=734a4001-b66e-4476-9dfa-e7874bbc6862\"',\n",
       " '\"6/25/2020 4:02:42 AM\"',\n",
       " '\"c3755513-ff16-4b44-b1fe-85bf3b34ed39\"',\n",
       " '\"\"',\n",
       " '\"\"',\n",
       " '\"\"',\n",
       " '\"\"',\n",
       " '\"N/A\"',\n",
       " '\"0\"',\n",
       " '\"0\"',\n",
       " '\"1\"',\n",
       " '\"\"',\n",
       " '\"\"',\n",
       " '\"M\"',\n",
       " '\"2020/7/20\"',\n",
       " '\"./ErnstYoungChinaAdvisory/2020-07-20/WorldCompliance_2020-07-16.zip_files\\\\WorldCompliance_2020-07-16.xml\"',\n",
       " '\"1575314\"',\n",
       " '\"Wilson',\n",
       " ' Dale Louise\"',\n",
       " '\"Dale Louise\"',\n",
       " '\"Wilson\"',\n",
       " '\"\"',\n",
       " '\"\"',\n",
       " '\"\"',\n",
       " '\"US-COURT\"',\n",
       " '\"0\"',\n",
       " '\"\"',\n",
       " '\"Individual\"',\n",
       " '\"Enforcement\"',\n",
       " '\"Bank Fraud\"',\n",
       " '\"\"',\n",
       " '\"Sentenced to 65 months in prison for forgery and bank fraud - March 02',\n",
       " ' 2010.\"',\n",
       " '\"According to the Federal Bureau of Prisons; as of January 05',\n",
       " ' 2015: Name: DALE LOUISE WILSON Register Number: 12467-111 Age: 62 Sex: Female Located at: Sacramento RRM Release Date: 01/07/2015  According to U.S.Courts; March 02',\n",
       " ' 2010: On March 02',\n",
       " ' 2010 Dale Louise Wilson',\n",
       " ' was sentenced to 65 months in prison',\n",
       " ' ordered to pay USD 207',\n",
       " '307.00 restitution and to serve five years of supervised release for identity theft and bank fraud.  According to United States Attorney - Western District of Michigan; April 24',\n",
       " ' 2009: On April 23',\n",
       " ' 2009 Dale Louise Wilson was indicted for forgery and bank fraud. U.S. Attorney Donald A. Davis announced the filing yesterday of the third indictment in the on-going investigation of an alleged identity theft and bank fraud ring based in Oakland',\n",
       " ' California. The filing of this latest indictment brings the total number of defendants to 14',\n",
       " ' including a former Bank of America (BOA) employee who allegedly assisted the fraud ring by selling account information and personal identifying information of BOA account holders',\n",
       " ' information that was then used to make fraudulent high-value cash withdrawals from BOA branches across the United States',\n",
       " ' including the Western District of Michigan. The case came to light on January 09',\n",
       " ' 2008',\n",
       " ' when employees of a BOA branch in Grand Rapids notified the Wyoming Police Department that a person had just attempted to make a large cash withdrawal under suspicious circumstances. Wyoming officers responded within minutes and arrested four suspects as they were driving away from the bank branch.\"',\n",
       " '\"1953\"',\n",
       " '\"\"',\n",
       " '\"United States\"',\n",
       " '\"\"',\n",
       " '\"\"',\n",
       " '\"\"',\n",
       " '\"\"',\n",
       " '\"0\"',\n",
       " '\"https://members.worldcompliance.com/Article.aspx?id=e6f20396-c6f9-4f44-99e8-a0a5b4009a4d;https://members.worldcompliance.com/Article.aspx?id=b6172743-6916-49c1-bba6-b11f17d7e9e4;https://members.worldcompliance.com/Article.aspx?id=734a4001-b66e-4476-9dfa-e7874bbc6862;http://www.uscourts.gov/CourtRecords.aspx;http://www.usdoj.gov/usao/miw/press/AHolloway_Others04242009.html;http://www.bop.gov/inmateloc/#\"',\n",
       " '\"7/14/2020 10:18:04 PM\"',\n",
       " '\"3c1b1c6b-9cb5-4fc2-86fd-af7aac655970\"',\n",
       " '\"\"',\n",
       " '\"\"',\n",
       " '\"12467-111\"',\n",
       " '\"1952\"',\n",
       " '\"N/A\"',\n",
       " '\"0\"',\n",
       " '\"0\"',\n",
       " '\"1\"',\n",
       " '\"\"',\n",
       " '\"\"',\n",
       " '\"F\"',\n",
       " '\"2020/7/20\"',\n",
       " '\"./ErnstYoungChinaAdvisory/2020-07-20/WorldCompliance_2020-07-16.zip_files\\\\WorldCompliance_2020-07-16.xml\"',\n",
       " '\"1575316\"',\n",
       " '\"Leblanc',\n",
       " ' Willie Jesus\"',\n",
       " '\"Willie Jesus\"',\n",
       " '\"Leblanc\"',\n",
       " '\"\"',\n",
       " '\"\"',\n",
       " '\"\"',\n",
       " '\"US-AO-WDMI\"',\n",
       " '\"0\"',\n",
       " '\"\"',\n",
       " '\"Individual\"',\n",
       " '\"Enforcement\"',\n",
       " '\"Bank Fraud\"',\n",
       " '\"\"',\n",
       " '\"Sentenced to 33 months in prison for forgery and bank fraud - October 27',\n",
       " ' 2010.\"',\n",
       " '\"According to U.S. Federal Bureau of Prisons; as of June 16',\n",
       " ' 2020: Name: WILLIE JESUS LEBLANC  Register Number: 14127-111 Age: 41 Race: Black Sex: Male Released On: 05/22/2013  According to U.S. Courts; October 27',\n",
       " ' 2010: On October 27',\n",
       " ' 2010',\n",
       " ' Willie Jesus LeBlanc was sentenced to 33 months in prison',\n",
       " ' ordered to pay USD 85',\n",
       " '030 restitution and to serve three years of supervised release for identity theft and bank fraud.  According to United States Attorney - Western District of Michigan; April 24',\n",
       " ' 2009: On April 23',\n",
       " ' 2009 Willie Jesus LeBlanc was indicted for forgery and bank fraud. U.S. Attorney Donald A. Davis announced the filing yesterday of the third indictment in the on-going investigation of an alleged identity theft and bank fraud ring based in Oakland',\n",
       " ' California. The filing of this latest indictment brings the total number of defendants to 14',\n",
       " ' including a former Bank of America (BOA) employee who allegedly assisted the fraud ring by selling account information and personal identifying information of BOA account holders',\n",
       " ' information that was then used to make fraudulent high-value cash withdrawals from BOA branches across the United States',\n",
       " ' including the Western District of Michigan. The case came to light on January 09',\n",
       " ' 2008',\n",
       " ' when employees of a BOA branch in Grand Rapids notified the Wyoming Police Department that a person had just attempted to make a large cash withdrawal under suspicious circumstances. Wyoming officers responded within minutes and arrested four suspects as they were driving away from the bank branch.\"',\n",
       " '\"1979\"',\n",
       " '\"\"',\n",
       " '\"United States\"',\n",
       " '\"\"',\n",
       " '\"\"',\n",
       " '\"\"',\n",
       " '\"\"',\n",
       " '\"0\"',\n",
       " '\"https://web.archive.org/web/20090510115135/http://www.usdoj.gov/usao/miw/press/AHolloway_Others04242009.html;https://www.uscourts.gov/court-records/find-case-pacer;https://www.bop.gov/inmateloc/;https://members.worldcompliance.com/Article.aspx?id=e6f20396-c6f9-4f44-99e8-a0a5b4009a4d;https://members.worldcompliance.com/Article.aspx?id=b6172743-6916-49c1-bba6-b11f17d7e9e4;https://members.worldcompliance.com/Article.aspx?id=734a4001-b66e-4476-9dfa-e7874bbc6862\"',\n",
       " '\"6/25/2020 3:02:25 AM\"',\n",
       " '\"95fc7dda-3ba8-4275-b707-6d7bedd361a9\"',\n",
       " '\"\"',\n",
       " '\"\"',\n",
       " '\"14127-111\"',\n",
       " '\"1978\"',\n",
       " '\"N/A\"',\n",
       " '\"0\"',\n",
       " '\"0\"',\n",
       " '\"1\"',\n",
       " '\"\"',\n",
       " '\"\"',\n",
       " '\"M\"',\n",
       " '\"2020/7/20\"',\n",
       " '\"./ErnstYoungChinaAdvisory/2020-07-20/WorldCompliance_2020-07-16.zip_files\\\\WorldCompliance_2020-07-16.xml\"',\n",
       " '\"1575317\"',\n",
       " '\"Pratt',\n",
       " ' Laquida Breshuin\"',\n",
       " '\"Laquida Breshuin\"',\n",
       " '\"Pratt\"',\n",
       " '\"\"',\n",
       " '\"\"',\n",
       " '\"\"',\n",
       " '\"US-AO-WDMI\"',\n",
       " '\"0\"',\n",
       " '\"\"',\n",
       " '\"Individual\"',\n",
       " '\"Enforcement\"',\n",
       " '\"Bank Fraud\"',\n",
       " '\"\"',\n",
       " '\"Sentenced to 57 months in prison for forgery and bank fraud January 06',\n",
       " ' 2010.\"',\n",
       " '\"According to the Federal Bureau of Prisons; as of January 05',\n",
       " ' 2015: Name: LAQUIDA BRESHUIN PRATT Register Number: 12809-111 Age: 39 Sex: Female Released On: August 17',\n",
       " ' 2012.  According to U.S Courts; January 06',\n",
       " ' 2010: On January 06',\n",
       " ' 2010 Laquida Breshuin Pratt',\n",
       " ' was sentenced to 57 months in prison',\n",
       " ' ordered to pay USD 142',\n",
       " '201.55 restitution and to serve three years of supervised release for identity theft and bank fraud.  According to United States Attorney - Western District of Michigan; April 24',\n",
       " ' 2009: On April 23',\n",
       " ' 2009 Laquida Breshuin Pratt was indicted for forgery and bank fraud. U.S. Attorney Donald A. Davis announced the filing yesterday of the third indictment in the on-going investigation of an alleged identity theft and bank fraud ring based in Oakland',\n",
       " ' California. The filing of this latest indictment brings the total number of defendants to 14',\n",
       " ' including a former Bank of America (BOA) employee who allegedly assisted the fraud ring by selling account information and personal identifying information of BOA account holders',\n",
       " ' information that was then used to make fraudulent high-value cash withdrawals from BOA branches across the United States',\n",
       " ' including the Western District of Michigan. The case came to light on January 09',\n",
       " ' 2008',\n",
       " ' when employees of a BOA branch in Grand Rapids notified the Wyoming Police Department that a person had just attempted to make a large cash withdrawal under suspicious circumstances. Wyoming officers responded within minutes and arrested four suspects as they were driving away from the bank branch.\"',\n",
       " '\"1976\"',\n",
       " '\"\"',\n",
       " '\"United States\"',\n",
       " '\"\"',\n",
       " '\"\"',\n",
       " '\"\"',\n",
       " '\"\"',\n",
       " '\"0\"',\n",
       " '\"https://members.worldcompliance.com/Article.aspx?id=e6f20396-c6f9-4f44-99e8-a0a5b4009a4d;https://members.worldcompliance.com/Article.aspx?id=b6172743-6916-49c1-bba6-b11f17d7e9e4;https://members.worldcompliance.com/Article.aspx?id=734a4001-b66e-4476-9dfa-e7874bbc6862;http://www.uscourts.gov/CourtRecords.aspx;http://www.usdoj.gov/usao/miw/press/AHolloway_Others04242009.html;http://www.bop.gov/inmateloc/#\"',\n",
       " '\"6/25/2020 4:02:42 AM\"',\n",
       " '\"2274bad3-f9f0-44e6-9c36-8320de3033ec\"',\n",
       " '\"\"',\n",
       " '\"\"',\n",
       " '\"12809-111\"',\n",
       " '\"1975\"',\n",
       " '\"N/A\"',\n",
       " '\"0\"',\n",
       " '\"0\"',\n",
       " '\"1\"',\n",
       " '\"\"',\n",
       " '\"\"',\n",
       " '\"F\"',\n",
       " '\"2020/7/20\"',\n",
       " '\"./ErnstYoungChinaAdvisory/2020-07-20/WorldCompliance_2020-07-16.zip_files\\\\WorldCompliance_2020-07-16.xml\"',\n",
       " '\"1575318\"',\n",
       " '\"Aldridge',\n",
       " ' Mocha Myesha\"',\n",
       " '\"Mocha Myesha\"',\n",
       " '\"Aldridge\"',\n",
       " '\"\"',\n",
       " '\"\"',\n",
       " '\"\"',\n",
       " '\"US-AO-WDMI\"',\n",
       " '\"0\"',\n",
       " '\"\"',\n",
       " '\"Individual\"',\n",
       " '\"Enforcement\"',\n",
       " '\"Bank Fraud\"',\n",
       " '\"\"',\n",
       " '\"Sentenced to 48 months in prison for forgery and bank fraud - April 27',\n",
       " ' 2010.\"',\n",
       " '\"According to the Federal Bureau of Prisons; Information as January 05',\n",
       " ' 2015: Name: MOCHA MYESHA ALDRIDGE Register Number: 12475-111 Age: 36 Sex: Female Released On: March 26',\n",
       " ' 2013.  According to U.S. Courts; April 27',\n",
       " ' 2010: On April 27',\n",
       " ' 2010: Mocha Myesha Aldridge',\n",
       " ' was sentenced to 48 months in prison',\n",
       " ' ordered to pay USD 250',\n",
       " '000.00 restitution and to serve four years of supervised release for identity theft and bank fraud.  According to U.S. Federal Bureau of Investigation; December 23',\n",
       " ' 2009: On January 09',\n",
       " ' 2009 Mocha Myesha Aldridge',\n",
       " ' was arrested for bank fraud. The case',\n",
       " ' which is being investigated by the U.S. Secret Service',\n",
       " ' began when employees of a BOA branch in Wyoming notified the Wyoming Police Department that a person had just attempted to make a large cash withdrawal under suspicious circumstances. Wyoming officers responded within minutes and arrested four suspects as they were driving away from the bank branch Holloway.  According to United States Attorney - Western District of Michigan; April 24',\n",
       " ' 2009: On April 23',\n",
       " ' 2009 Mocha Myesha Aldridge',\n",
       " ' was indicted for forgery and bank fraud. U.S. Attorney Donald A. Davis announced the filing yesterday of the third indictment in the on-going investigation of an alleged identity theft and bank fraud ring based in Oakland',\n",
       " ' California. The filing of this latest indictment brings the total number of defendants to 14',\n",
       " ' including a former Bank of America (BOA) employee who allegedly assisted the fraud ring by selling account information and personal identifying information of BOA account holders',\n",
       " ' information that was then used to make fraudulent high-value cash withdrawals from BOA branches across the United States',\n",
       " ' including the Western District of Michigan. The case came to light on January 09',\n",
       " ' 2008',\n",
       " ' when employees of a BOA branch in Grand Rapids notified the Wyoming Police Department that a person had just attempted to make a large cash withdrawal under suspicious circumstances. Wyoming officers responded within minutes and arrested four suspects as they were driving away from the bank branch.\"',\n",
       " '\"1978\"',\n",
       " '\"\"',\n",
       " '\"United States\"',\n",
       " '\"\"',\n",
       " '\"\"',\n",
       " '\"\"',\n",
       " '\"\"',\n",
       " '\"0\"',\n",
       " '\"https://archives.fbi.gov/archives/detroit/press-releases/2009/de122309b.htm;http://inmatereleases.org/rrm-sacramento/?pg=60;http://web.archive.org/web/20090510115135/http://www.usdoj.gov/usao/miw/press/AHolloway_Others04242009.html;https://www.uscourts.gov/;https://members.worldcompliance.com/Article.aspx?id=e6f20396-c6f9-4f44-99e8-a0a5b4009a4d;https://members.worldcompliance.com/Article.aspx?id=b6172743-6916-49c1-bba6-b11f17d7e9e4;https://members.worldcompliance.com/Article.aspx?id=734a4001-b66e-4476-9dfa-e7874bbc6862;http://www.bop.gov/inmateloc/#\"',\n",
       " '\"6/25/2020 3:02:25 AM\"',\n",
       " '\"2910c657-2d61-43f0-8b4e-cf20a95eb7f9\"',\n",
       " '\"\"',\n",
       " '\"\"',\n",
       " '\"12475-111\"',\n",
       " '\"1979\"',\n",
       " '\"N/A\"',\n",
       " '\"0\"',\n",
       " '\"0\"',\n",
       " '\"1\"',\n",
       " '\"\"',\n",
       " '\"\"',\n",
       " '\"F\"',\n",
       " '\"2020/7/20\"',\n",
       " '\"./ErnstYoungChinaAdvisory/2020-07-20/WorldCompliance_2020-07-16.zip_files\\\\WorldCompliance_2020-07-16.xml\"',\n",
       " '\"1575319\"',\n",
       " '\"Kennard',\n",
       " ' Alaiya Minyonne\"',\n",
       " '\"Alaiya Minyonne\"',\n",
       " '\"Kennard\"',\n",
       " '\"\"',\n",
       " '\"\"',\n",
       " '\"\"',\n",
       " '\"US-COURT\"',\n",
       " '\"0\"',\n",
       " '\"\"',\n",
       " '\"Individual\"',\n",
       " '\"Enforcement\"',\n",
       " '\"Bank Fraud\"',\n",
       " '\"\"',\n",
       " '\"Sentenced to 24 months in prison for forgery and bank fraud - February 08',\n",
       " ' 2010.\"',\n",
       " '\"According to the Federal Bureau of Prisons; as of January 05',\n",
       " ' 2015: Name: ALAIYA MINYONNE KENNARD Register Number: 14313-040 Age: 38 Sex: Female Released On: October 15',\n",
       " ' 2012.  According to U.S Courts; February 08',\n",
       " ' 2010: On February 08',\n",
       " ' 2010 Alaiya Minyonne Kennard',\n",
       " ' was sentenced to 24 months in prison',\n",
       " ' ordered to pay  USD 9',\n",
       " '100.00 restitution and to serve five years of supervised release for identity theft and bank fraud.  According to United States Attorney - Western District of Michigan; April 24',\n",
       " ' 2009: On April 23',\n",
       " ' 2009 Alaiya Minyonne Kennard was indicted for forgery and bank fraud. U.S. Attorney Donald A. Davis announced the filing yesterday of the third indictment in the on-going investigation of an alleged identity theft and bank fraud ring based in Oakland',\n",
       " ' California. The filing of this latest indictment brings the total number of defendants to 14',\n",
       " ' including a former Bank of America (BOA) employee who allegedly assisted the fraud ring by selling account information and personal identifying information of BOA account holders',\n",
       " ' information that was then used to make fraudulent high-value cash withdrawals from BOA branches across the United States',\n",
       " ' including the Western District of Michigan. The case came to light on January 09',\n",
       " ' 2008',\n",
       " ' when employees of a BOA branch in Grand Rapids notified the Wyoming Police Department that a person had just attempted to make a large cash withdrawal under suspicious circumstances. Wyoming officers responded within minutes and arrested four suspects as they were driving away from the bank branch.\"',\n",
       " '\"1977\"',\n",
       " '\"\"',\n",
       " '\"United States\"',\n",
       " '\"\"',\n",
       " '\"\"',\n",
       " '\"\"',\n",
       " '\"\"',\n",
       " '\"0\"',\n",
       " '\"https://members.worldcompliance.com/Article.aspx?id=e6f20396-c6f9-4f44-99e8-a0a5b4009a4d;https://members.worldcompliance.com/Article.aspx?id=b6172743-6916-49c1-bba6-b11f17d7e9e4;https://members.worldcompliance.com/Article.aspx?id=734a4001-b66e-4476-9dfa-e7874bbc6862;http://www.uscourts.gov/CourtRecords.aspx;http://www.usdoj.gov/usao/miw/press/AHolloway_Others04242009.html;http://www.bop.gov/inmateloc/#\"',\n",
       " '\"6/25/2020 4:02:42 AM\"',\n",
       " '\"5911e9bf-a3d3-4e7a-8958-bdc9ef9466cc\"',\n",
       " '\"\"',\n",
       " '\"\"',\n",
       " '\"14313-040\"',\n",
       " '\"1976\"',\n",
       " '\"N/A\"',\n",
       " '\"0\"',\n",
       " '\"0\"',\n",
       " '\"1\"',\n",
       " '\"\"',\n",
       " '\"\"',\n",
       " '\"F\"',\n",
       " '\"2020/7/20\"',\n",
       " '\"./ErnstYoungChinaAdvisory/2020-07-20/WorldCompliance_2020-07-16.zip_files\\\\WorldCompliance_2020-07-16.xml\"',\n",
       " '\"1575401\"',\n",
       " '\"Tsarukyan',\n",
       " ' Nikolay\"',\n",
       " '\"Nikolay\"',\n",
       " '\"Tsarukyan\"',\n",
       " '\"\"',\n",
       " '\"\"',\n",
       " '\"\"',\n",
       " '\"Website\"',\n",
       " '\"0\"',\n",
       " '\"\"',\n",
       " '\"Individual\"',\n",
       " '\"PEP\"',\n",
       " '\"Family Member\"',\n",
       " '\"\"',\n",
       " '\"Father of Gagik Tsarukyan',\n",
       " ' Member of the National Assembly\"',\n",
       " '\"Personal: Son: Gagik Tsarukyan. Daughter-in-Law: Javahir Tsarukyan. Wife: Roza Tsarukyan. Granddaughter: Emma Tsarukyan. Granddaughter: Anahit Tsarukyan. granddaughter: Gayane Tsarukyan. Granddaughter: Roza Gagik Tsarukyan. Grandson: Nver Tsarukyan. Grandson: Hovhannes Tsarukyan. \"',\n",
       " '\"\"',\n",
       " '\"\"',\n",
       " '\"Armenia\"',\n",
       " '\"\"',\n",
       " '\"\"',\n",
       " '\"\\\\Armenia\\\\1575401.jpg\"',\n",
       " '\"\"',\n",
       " '\"0\"',\n",
       " '\"http://www.parliament.am/deputies.php?sel=details&ID=1026&lang=eng\"',\n",
       " '\"3/15/2019 12:00:41 AM\"',\n",
       " '\"d51f2f79-bfc2-4a72-8dc5-46e369b97e55\"',\n",
       " '\"\"',\n",
       " '\"\"',\n",
       " '\"\"',\n",
       " '\"\"',\n",
       " '\"National\"',\n",
       " '\"0\"',\n",
       " '\"0\"',\n",
       " '\"1\"',\n",
       " '\"Նիկոլայ Ծառուկյան\"',\n",
       " '\"\"',\n",
       " '\"M\"',\n",
       " '\"2020/7/20\"',\n",
       " '\"./ErnstYoungChinaAdvisory/2020-07-20/WorldCompliance_2020-07-14.zip_files\\\\WorldCompliance_2020-07-14.xml\"']"
      ]
     },
     "execution_count": 55,
     "metadata": {},
     "output_type": "execute_result"
    }
   ],
   "source": [
    "stringRDD.collect()"
   ]
  },
  {
   "cell_type": "code",
   "execution_count": 21,
   "metadata": {},
   "outputs": [
    {
     "data": {
      "text/plain": [
       "[0, 1, 2, 3, 4, 5, 6, 7, 8, 9]"
      ]
     },
     "execution_count": 21,
     "metadata": {},
     "output_type": "execute_result"
    }
   ],
   "source": [
    "s1 = sc.parallelize(list(range(10))) # 将数据并行分布到背后的分布式存储，透明的分布式处理与存储\n",
    "s1.collect() # 转换运算不会立即运算（延迟运算），需要collect()等动作运算才会真正执行数据操作"
   ]
  },
  {
   "cell_type": "code",
   "execution_count": 22,
   "metadata": {},
   "outputs": [
    {
     "data": {
      "text/plain": [
       "['Apple', 'Orange', 'Banana', 'Orange', 'Apple']"
      ]
     },
     "execution_count": 22,
     "metadata": {},
     "output_type": "execute_result"
    }
   ],
   "source": [
    "s2 = sc.parallelize([\"Apple\", \"Orange\", \"Banana\", \"Orange\", \"Apple\"])\n",
    "s2.collect()"
   ]
  },
  {
   "cell_type": "code",
   "execution_count": 25,
   "metadata": {},
   "outputs": [
    {
     "data": {
      "text/plain": [
       "[2, 3, 4, 5, 6, 7, 8, 9, 10, 11]"
      ]
     },
     "execution_count": 25,
     "metadata": {},
     "output_type": "execute_result"
    }
   ],
   "source": [
    "def add_one(x):\n",
    "    return x+2\n",
    "\n",
    "s1.map(add_one).collect() # 划分任务，把不同任务分配到不同计算机上，对于大数据集有优势"
   ]
  },
  {
   "cell_type": "code",
   "execution_count": 27,
   "metadata": {},
   "outputs": [
    {
     "data": {
      "text/plain": [
       "[2, 3, 4, 5, 6, 7, 8, 9, 10, 11]"
      ]
     },
     "execution_count": 27,
     "metadata": {},
     "output_type": "execute_result"
    }
   ],
   "source": [
    "s1.map(lambda x:x+2).collect()"
   ]
  },
  {
   "cell_type": "code",
   "execution_count": 28,
   "metadata": {},
   "outputs": [
    {
     "data": {
      "text/plain": [
       "['fruit:Apple', 'fruit:Orange', 'fruit:Banana', 'fruit:Orange', 'fruit:Apple']"
      ]
     },
     "execution_count": 28,
     "metadata": {},
     "output_type": "execute_result"
    }
   ],
   "source": [
    "s2.map(lambda x: 'fruit:' + x).collect()"
   ]
  },
  {
   "cell_type": "code",
   "execution_count": 29,
   "metadata": {},
   "outputs": [
    {
     "data": {
      "text/plain": [
       "['Orange', 'Orange']"
      ]
     },
     "execution_count": 29,
     "metadata": {},
     "output_type": "execute_result"
    }
   ],
   "source": [
    "s2.filter(lambda x: 'ra' in x).collect()"
   ]
  },
  {
   "cell_type": "code",
   "execution_count": 30,
   "metadata": {},
   "outputs": [
    {
     "data": {
      "text/plain": [
       "[3, 4, 5, 6, 7, 8]"
      ]
     },
     "execution_count": 30,
     "metadata": {},
     "output_type": "execute_result"
    }
   ],
   "source": [
    "s1.filter(lambda x: x>=3 and x <=8).collect()"
   ]
  },
  {
   "cell_type": "code",
   "execution_count": 31,
   "metadata": {},
   "outputs": [
    {
     "data": {
      "text/plain": [
       "['Apple', 'Orange', 'Banana']"
      ]
     },
     "execution_count": 31,
     "metadata": {},
     "output_type": "execute_result"
    }
   ],
   "source": [
    "s2.distinct().collect()"
   ]
  },
  {
   "cell_type": "code",
   "execution_count": 33,
   "metadata": {},
   "outputs": [
    {
     "data": {
      "text/plain": [
       "['Apple', 'Orange', 'Banana', 'Orange', 'Apple']"
      ]
     },
     "execution_count": 33,
     "metadata": {},
     "output_type": "execute_result"
    }
   ],
   "source": [
    "s2.collect()"
   ]
  },
  {
   "cell_type": "code",
   "execution_count": 39,
   "metadata": {},
   "outputs": [],
   "source": [
    "s3 = s1.randomSplit([0.4,0.6])"
   ]
  },
  {
   "cell_type": "code",
   "execution_count": 40,
   "metadata": {},
   "outputs": [
    {
     "data": {
      "text/plain": [
       "[3, 4, 5, 6, 8]"
      ]
     },
     "execution_count": 40,
     "metadata": {},
     "output_type": "execute_result"
    }
   ],
   "source": [
    "s3[0].collect()"
   ]
  },
  {
   "cell_type": "code",
   "execution_count": 42,
   "metadata": {},
   "outputs": [],
   "source": [
    "s4 = s1.groupBy(lambda x:'偶数' if (x%2==0) else '奇数').collect()"
   ]
  },
  {
   "cell_type": "code",
   "execution_count": 46,
   "metadata": {},
   "outputs": [
    {
     "data": {
      "text/plain": [
       "[0, 2, 4, 6, 8]"
      ]
     },
     "execution_count": 46,
     "metadata": {},
     "output_type": "execute_result"
    }
   ],
   "source": [
    "sorted(s4[0][1])"
   ]
  },
  {
   "cell_type": "code",
   "execution_count": 47,
   "metadata": {},
   "outputs": [],
   "source": [
    "a1 = sc.parallelize([3,1,2,5,6])\n",
    "a2 = sc.parallelize([5,6])\n",
    "a3 = sc.parallelize([2,7])"
   ]
  },
  {
   "cell_type": "code",
   "execution_count": 49,
   "metadata": {},
   "outputs": [
    {
     "data": {
      "text/plain": [
       "[3, 1, 2, 5, 6, 5, 6, 2, 7]"
      ]
     },
     "execution_count": 49,
     "metadata": {},
     "output_type": "execute_result"
    }
   ],
   "source": [
    "a1.union(a2).union(a3).collect() # 并集"
   ]
  },
  {
   "cell_type": "code",
   "execution_count": 51,
   "metadata": {},
   "outputs": [
    {
     "data": {
      "text/plain": [
       "[2]"
      ]
     },
     "execution_count": 51,
     "metadata": {},
     "output_type": "execute_result"
    }
   ],
   "source": [
    "a1.intersection(a3).collect() # 交集"
   ]
  },
  {
   "cell_type": "code",
   "execution_count": 52,
   "metadata": {},
   "outputs": [
    {
     "data": {
      "text/plain": [
       "[6, 3, 1, 5]"
      ]
     },
     "execution_count": 52,
     "metadata": {},
     "output_type": "execute_result"
    }
   ],
   "source": [
    "a1.subtract(a3).collect() # 差集"
   ]
  },
  {
   "cell_type": "code",
   "execution_count": 53,
   "metadata": {},
   "outputs": [
    {
     "data": {
      "text/plain": [
       "[(5, 2), (5, 7), (6, 2), (6, 7)]"
      ]
     },
     "execution_count": 53,
     "metadata": {},
     "output_type": "execute_result"
    }
   ],
   "source": [
    "a2.cartesian(a3).collect() # 笛卡尔积 应用：交叉验证、网格搜索"
   ]
  },
  {
   "cell_type": "markdown",
   "metadata": {},
   "source": [
    "基本“动作”运算"
   ]
  },
  {
   "cell_type": "code",
   "execution_count": 54,
   "metadata": {},
   "outputs": [
    {
     "data": {
      "text/plain": [
       "3"
      ]
     },
     "execution_count": 54,
     "metadata": {},
     "output_type": "execute_result"
    }
   ],
   "source": [
    "a1.first()"
   ]
  },
  {
   "cell_type": "code",
   "execution_count": 56,
   "metadata": {},
   "outputs": [
    {
     "data": {
      "text/plain": [
       "[3, 1]"
      ]
     },
     "execution_count": 56,
     "metadata": {},
     "output_type": "execute_result"
    }
   ],
   "source": [
    "a1.take(2) # 取前2个"
   ]
  },
  {
   "cell_type": "code",
   "execution_count": 57,
   "metadata": {},
   "outputs": [
    {
     "data": {
      "text/plain": [
       "[1, 2, 3]"
      ]
     },
     "execution_count": 57,
     "metadata": {},
     "output_type": "execute_result"
    }
   ],
   "source": [
    "a1.takeOrdered(3) # 排序之后取前3个"
   ]
  },
  {
   "cell_type": "code",
   "execution_count": 58,
   "metadata": {},
   "outputs": [
    {
     "data": {
      "text/plain": [
       "1"
      ]
     },
     "execution_count": 58,
     "metadata": {},
     "output_type": "execute_result"
    }
   ],
   "source": [
    "a1.min()"
   ]
  },
  {
   "cell_type": "code",
   "execution_count": 59,
   "metadata": {},
   "outputs": [
    {
     "data": {
      "text/plain": [
       "6"
      ]
     },
     "execution_count": 59,
     "metadata": {},
     "output_type": "execute_result"
    }
   ],
   "source": [
    "a1.max()"
   ]
  },
  {
   "cell_type": "code",
   "execution_count": 60,
   "metadata": {},
   "outputs": [
    {
     "data": {
      "text/plain": [
       "[6, 5, 3]"
      ]
     },
     "execution_count": 60,
     "metadata": {},
     "output_type": "execute_result"
    }
   ],
   "source": [
    "a1.takeOrdered(3,key=lambda x:-x) # 倒序排序"
   ]
  },
  {
   "cell_type": "code",
   "execution_count": 61,
   "metadata": {},
   "outputs": [
    {
     "data": {
      "text/plain": [
       "(count: 5, mean: 3.4, stdev: 1.854723699099141, max: 6.0, min: 1.0)"
      ]
     },
     "execution_count": 61,
     "metadata": {},
     "output_type": "execute_result"
    }
   ],
   "source": [
    "a1.stats() # 描述性统计信息 机器学习需要推理性统计信息的获取"
   ]
  },
  {
   "cell_type": "markdown",
   "metadata": {},
   "source": [
    "RDD Key-Value 基本“转换”运算"
   ]
  },
  {
   "cell_type": "code",
   "execution_count": 62,
   "metadata": {},
   "outputs": [
    {
     "data": {
      "text/plain": [
       "[(3, 4), (3, 6), (5, 6), (1, 2)]"
      ]
     },
     "execution_count": 62,
     "metadata": {},
     "output_type": "execute_result"
    }
   ],
   "source": [
    "k1 = sc.parallelize([(3,4),(3,6),(5,6),(1,2)])\n",
    "k1.collect()"
   ]
  },
  {
   "cell_type": "code",
   "execution_count": 63,
   "metadata": {},
   "outputs": [
    {
     "data": {
      "text/plain": [
       "[3, 3, 5, 1]"
      ]
     },
     "execution_count": 63,
     "metadata": {},
     "output_type": "execute_result"
    }
   ],
   "source": [
    "k1.keys().collect() # 获取键"
   ]
  },
  {
   "cell_type": "code",
   "execution_count": 64,
   "metadata": {},
   "outputs": [
    {
     "data": {
      "text/plain": [
       "[4, 6, 6, 2]"
      ]
     },
     "execution_count": 64,
     "metadata": {},
     "output_type": "execute_result"
    }
   ],
   "source": [
    "k1.values().collect() # 获取值"
   ]
  },
  {
   "cell_type": "code",
   "execution_count": 65,
   "metadata": {},
   "outputs": [
    {
     "data": {
      "text/plain": [
       "[(3, 4), (3, 6), (1, 2)]"
      ]
     },
     "execution_count": 65,
     "metadata": {},
     "output_type": "execute_result"
    }
   ],
   "source": [
    "k1.filter(lambda keyValue: keyValue[0] < 5).collect()"
   ]
  },
  {
   "cell_type": "code",
   "execution_count": 66,
   "metadata": {},
   "outputs": [
    {
     "data": {
      "text/plain": [
       "[(3, 16), (3, 36), (5, 36), (1, 4)]"
      ]
     },
     "execution_count": 66,
     "metadata": {},
     "output_type": "execute_result"
    }
   ],
   "source": [
    "k1.mapValues(lambda x: x * x).collect() # mapValues：针对值映射"
   ]
  },
  {
   "cell_type": "code",
   "execution_count": 68,
   "metadata": {},
   "outputs": [
    {
     "data": {
      "text/plain": [
       "[(5, 6), (3, 4), (3, 6), (1, 2)]"
      ]
     },
     "execution_count": 68,
     "metadata": {},
     "output_type": "execute_result"
    }
   ],
   "source": [
    "k1.sortByKey(ascending=False).collect()"
   ]
  },
  {
   "cell_type": "code",
   "execution_count": 69,
   "metadata": {},
   "outputs": [
    {
     "data": {
      "text/plain": [
       "[(1, 2), (3, 4), (3, 6), (5, 6)]"
      ]
     },
     "execution_count": 69,
     "metadata": {},
     "output_type": "execute_result"
    }
   ],
   "source": [
    "k1.sortByKey().collect()"
   ]
  },
  {
   "cell_type": "code",
   "execution_count": 70,
   "metadata": {},
   "outputs": [
    {
     "data": {
      "text/plain": [
       "[(3, 10), (5, 6), (1, 2)]"
      ]
     },
     "execution_count": 70,
     "metadata": {},
     "output_type": "execute_result"
    }
   ],
   "source": [
    "k1.reduceByKey(lambda x,y: x+y).collect() # 规约、聚集汇合 （键相同的值合并相加）"
   ]
  },
  {
   "cell_type": "code",
   "execution_count": 71,
   "metadata": {},
   "outputs": [
    {
     "data": {
      "text/plain": [
       "[(3, 4), (3, 6), (5, 6), (1, 2)]"
      ]
     },
     "execution_count": 71,
     "metadata": {},
     "output_type": "execute_result"
    }
   ],
   "source": [
    "k1.collect()"
   ]
  },
  {
   "cell_type": "code",
   "execution_count": 6,
   "metadata": {},
   "outputs": [],
   "source": [
    "k1 = sc.parallelize([(3,4),(3,6),(5,6),(1,2)])\n",
    "k2 = sc.parallelize([(3,9),(8,9)])"
   ]
  },
  {
   "cell_type": "code",
   "execution_count": 80,
   "metadata": {},
   "outputs": [
    {
     "data": {
      "text/plain": [
       "[(3, (4, 9)), (3, (6, 9))]"
      ]
     },
     "execution_count": 80,
     "metadata": {},
     "output_type": "execute_result"
    }
   ],
   "source": [
    "k1.join(k2).collect()"
   ]
  },
  {
   "cell_type": "code",
   "execution_count": 81,
   "metadata": {},
   "outputs": [
    {
     "data": {
      "text/plain": [
       "[(3, (4, 9)), (3, (6, 9)), (5, (6, None)), (1, (2, None))]"
      ]
     },
     "execution_count": 81,
     "metadata": {},
     "output_type": "execute_result"
    }
   ],
   "source": [
    "k1.leftOuterJoin(k2).collect()"
   ]
  },
  {
   "cell_type": "code",
   "execution_count": 82,
   "metadata": {},
   "outputs": [
    {
     "data": {
      "text/plain": [
       "[(8, (None, 9)), (3, (4, 9)), (3, (6, 9))]"
      ]
     },
     "execution_count": 82,
     "metadata": {},
     "output_type": "execute_result"
    }
   ],
   "source": [
    "k1.rightOuterJoin(k2).collect()"
   ]
  },
  {
   "cell_type": "code",
   "execution_count": 83,
   "metadata": {},
   "outputs": [
    {
     "data": {
      "text/plain": [
       "[(5, 6), (1, 2)]"
      ]
     },
     "execution_count": 83,
     "metadata": {},
     "output_type": "execute_result"
    }
   ],
   "source": [
    "k1.subtractByKey(k2).collect()"
   ]
  },
  {
   "cell_type": "code",
   "execution_count": 7,
   "metadata": {},
   "outputs": [
    {
     "data": {
      "text/plain": [
       "defaultdict(int, {3: 2, 5: 1, 1: 1})"
      ]
     },
     "execution_count": 7,
     "metadata": {},
     "output_type": "execute_result"
    }
   ],
   "source": [
    "k1.countByKey()"
   ]
  },
  {
   "cell_type": "code",
   "execution_count": 8,
   "metadata": {},
   "outputs": [
    {
     "data": {
      "text/plain": [
       "{3: 6, 5: 6, 1: 2}"
      ]
     },
     "execution_count": 8,
     "metadata": {},
     "output_type": "execute_result"
    }
   ],
   "source": [
    "k1.collectAsMap() # 如果同一个Key存在多个Value，则后边的Value会覆盖前边的Value，最终结果键唯一"
   ]
  },
  {
   "cell_type": "code",
   "execution_count": 9,
   "metadata": {},
   "outputs": [
    {
     "data": {
      "text/plain": [
       "[4, 6]"
      ]
     },
     "execution_count": 9,
     "metadata": {},
     "output_type": "execute_result"
    }
   ],
   "source": [
    "k1.lookup(3) # 取键为3的值组成一个列表"
   ]
  },
  {
   "cell_type": "code",
   "execution_count": 10,
   "metadata": {},
   "outputs": [
    {
     "data": {
      "text/plain": [
       "[6]"
      ]
     },
     "execution_count": 10,
     "metadata": {},
     "output_type": "execute_result"
    }
   ],
   "source": [
    "k1.lookup(5)"
   ]
  },
  {
   "cell_type": "markdown",
   "metadata": {},
   "source": [
    "广播变量 Broadcast\n",
    "   是执行任务的多台计算机之间共享的方式"
   ]
  },
  {
   "cell_type": "code",
   "execution_count": 11,
   "metadata": {},
   "outputs": [],
   "source": [
    "f1=sc.parallelize([(1, \"apple\"), (2, \"orange\"), (3, \"bananas\"), (4, \"grape\")])"
   ]
  },
  {
   "cell_type": "code",
   "execution_count": 15,
   "metadata": {},
   "outputs": [],
   "source": [
    "f3 = f1.collectAsMap()"
   ]
  },
  {
   "cell_type": "code",
   "execution_count": 13,
   "metadata": {},
   "outputs": [],
   "source": [
    "f2 = sc.parallelize([2,4,1,3])"
   ]
  },
  {
   "cell_type": "code",
   "execution_count": 16,
   "metadata": {},
   "outputs": [
    {
     "data": {
      "text/plain": [
       "['orange', 'grape', 'apple', 'bananas']"
      ]
     },
     "execution_count": 16,
     "metadata": {},
     "output_type": "execute_result"
    }
   ],
   "source": [
    "f2.map(lambda x:f3[x]).collect()"
   ]
  },
  {
   "cell_type": "code",
   "execution_count": 18,
   "metadata": {},
   "outputs": [],
   "source": [
    "f4 = sc.broadcast(f3) # 设置广播变量 分布式共享变量，多台计算机之间通信，共享sc"
   ]
  },
  {
   "cell_type": "code",
   "execution_count": 20,
   "metadata": {},
   "outputs": [
    {
     "data": {
      "text/plain": [
       "['orange', 'grape', 'apple', 'bananas']"
      ]
     },
     "execution_count": 20,
     "metadata": {},
     "output_type": "execute_result"
    }
   ],
   "source": [
    "f2.map(lambda x:f4.value[x]).collect()"
   ]
  },
  {
   "cell_type": "markdown",
   "metadata": {},
   "source": [
    "accumulator累加器   分布式累加"
   ]
  },
  {
   "cell_type": "code",
   "execution_count": 21,
   "metadata": {},
   "outputs": [],
   "source": [
    "m1 = sc.parallelize([3,1,2,5,5])"
   ]
  },
  {
   "cell_type": "code",
   "execution_count": 35,
   "metadata": {},
   "outputs": [],
   "source": [
    "total = sc.accumulator(0)\n",
    "num = sc.accumulator(0)"
   ]
  },
  {
   "cell_type": "code",
   "execution_count": 36,
   "metadata": {},
   "outputs": [],
   "source": [
    "m1.foreach(lambda i: [total.add(i), num.add(1)]) "
   ]
  },
  {
   "cell_type": "code",
   "execution_count": 37,
   "metadata": {},
   "outputs": [
    {
     "data": {
      "text/plain": [
       "5"
      ]
     },
     "execution_count": 37,
     "metadata": {},
     "output_type": "execute_result"
    }
   ],
   "source": [
    "num.value"
   ]
  },
  {
   "cell_type": "code",
   "execution_count": 38,
   "metadata": {},
   "outputs": [
    {
     "data": {
      "text/plain": [
       "16"
      ]
     },
     "execution_count": 38,
     "metadata": {},
     "output_type": "execute_result"
    }
   ],
   "source": [
    "total.value"
   ]
  },
  {
   "cell_type": "markdown",
   "metadata": {},
   "source": [
    "RDD Persistence 持久化\n",
    "将数据缓存在内存，提高性能的措施，分布式缓存"
   ]
  },
  {
   "cell_type": "code",
   "execution_count": 39,
   "metadata": {},
   "outputs": [],
   "source": [
    "from pyspark import StorageLevel"
   ]
  },
  {
   "cell_type": "code",
   "execution_count": 40,
   "metadata": {},
   "outputs": [
    {
     "data": {
      "text/plain": [
       "ParallelCollectionRDD[10] at parallelize at PythonRDD.scala:195"
      ]
     },
     "execution_count": 40,
     "metadata": {},
     "output_type": "execute_result"
    }
   ],
   "source": [
    "m1.persist(StorageLevel.MEMORY_AND_DISK)"
   ]
  },
  {
   "cell_type": "code",
   "execution_count": 41,
   "metadata": {},
   "outputs": [
    {
     "data": {
      "text/plain": [
       "True"
      ]
     },
     "execution_count": 41,
     "metadata": {},
     "output_type": "execute_result"
    }
   ],
   "source": [
    "m1.is_cached"
   ]
  },
  {
   "cell_type": "markdown",
   "metadata": {},
   "source": [
    "# 方式二：DataFrame 操作数据"
   ]
  },
  {
   "cell_type": "code",
   "execution_count": 137,
   "metadata": {},
   "outputs": [
    {
     "data": {
      "text/plain": [
       "7671461"
      ]
     },
     "execution_count": 137,
     "metadata": {},
     "output_type": "execute_result"
    }
   ],
   "source": [
    "# 读取外部数据\n",
    "textfile = sc.textFile(\"Desktop/lexisnexis_worldcompliance_entities.csv\")\n",
    "textfile.count()"
   ]
  },
  {
   "cell_type": "code",
   "execution_count": 138,
   "metadata": {},
   "outputs": [
    {
     "data": {
      "text/plain": [
       "['\"Ent_ID\",\"Name\",\"FirstName\",\"LastName\",\"Prefix\",\"Suffix\",\"Aka\",\"NameSource\",\"ParentID\",\"GovDesignation\",\"EntryType\",\"EntryCategory\",\"EntrySubCategory\",\"Organization\",\"Positions\",\"Remarks\",\"DOB\",\"POB\",\"Country\",\"ExpirationDate\",\"EffectiveDate\",\"PictureFile\",\"LinkedTo\",\"Related_ID\",\"SourceWebLink\",\"TouchDate\",\"DirectID\",\"PassportID\",\"NationalID\",\"OtherID\",\"DOB2\",\"EntLevel\",\"MasterID\",\"Watch\",\"Relationships\",\"PrimaryName\",\"OriginalName2\",\"Gender\",\"EY_DailyDeltaDate\",\"EY_DailyDeltaFilename\"',\n",
       " '\"1574254\",\"Quintanilla, Ricardo\",\"Ricardo\",\"Quintanilla\",\"\",\"\",\"\",\"US-AO-DMN\",\"0\",\"\",\"Individual\",\"Enforcement\",\"Money Laundering\",\"\",\"Sentenced to 40 months in prison for money laundering - April 26, 2011\",\"According to United States Attorney - District of Minnesota and U.S. Drug Enforcement Administration; January 06, 2012: On January 06, 2012, in federal court, Fairbault man was sentenced in connection with a Mexican-based drug cartel that distributed methamphetamine and cocaine throughout Minnesota from 2005 through 2009. United States District Court Judge sentenced Oscar Damian Limon to three years of probation on one count of conspiracy to distribute cocaine. Limon, who was indicted along with 26 co-defendants on April 21, 2009, pleaded guilty on September 11, 2009. At the direction of drug kingpin Roberto Guadalupe Aleman, the members of this conspiracy imported hundreds of kilograms of cocaine into the U.S. from Mexico, and then transported the cocaine from the Texas-Mexico border into the State of Minnesota for distribution and resale.  On April 26, 2011, Ricardo Quintanilla, of Hidalgo, Texas, was sentenced to forty months in prison, he and his co-defendants admitted conspiring to conduct structured financial transactions involving drug-trafficking proceeds. Law enforcement officers also seized approximately USD 120,000 in drug-trafficking proceeds from the bank account of Maria Aleman. During the course of the investigation, police seized more than USD 505,000 in four separate seizures, including one at the Minneapolis-St. Paul International Airport.  During several seizures in Minnesota and Texas between July 07, 2008, and April 25, 2009, police seized more than 45 kilograms of cocaine from couriers and customers of the organization. The affidavit states that the organization was transporting approximately 10 to 30 kilograms of cocaine each month into the State of Minnesota for the duration of the conspiracy. In addition, federal law enforcement authorities traced the banking activity of several defendants, uncovering a complex web of structured cash deposits in Minnesota banks followed by withdrawals from Hidalgo area banks. These structured transactions totaled more than USD 3,700,000 during the course of the three-year conspiracy.  According to the United States Attorney - District of Minnesota; April 29, 2009: Twenty-six individuals were recently indicted in connection with a Mexican-based drug cartel that distributed methamphetamine and cocaine throughout Minnesota for the past several years. The indictment was unsealed on April 29, 2009, following the arrest of 23 of the individuals in both Minnesota and Texas.  One of the defendant Ricardo Quintanilla, was charged with one count of conspiracy to distribute methamphetamine and cocaine, he was also charged with one count of conspiracy to commit money laundering.\",\"1972\",\"\",\"United States\",\"\",\"\",\"\",\"\",\"0\",\"https://web.archive.org/web/20100307190830/https://www.justice.gov/usao/mn/narc/narc0164.pdf;https://www.justice.gov/archive/usao/mn/limonsentenced.html;https://www.worldcompliance.com/Search/Article.aspx?id=8e393aaf-e5f5-4088-ac15-8b8fcc4e25bc;https://www.worldcompliance.com/Search/Article.aspx?id=b94b0047-3aa8-45b2-845c-7e5dca549598;http://www.dea.gov/divisions/chi/2012/chi010912p.html\",\"5/4/2017 9:04:06 AM\",\"268b0c34-22e8-4539-94ad-c4e6808350df\",\"\",\"\",\"\",\"1973\",\"N/A\",\"0\",\"0\",\"1\",\"\",\"\",\"M\",\"2020/5/9\",\"./ErnstYoungChinaAdvisory/2020-05-09/full_xml_split10.xml\"',\n",
       " '\"1574255\",\"Roman, Luiz Manuel\",\"Luiz Manuel\",\"Roman\",\"\",\"\",\"\",\"US-AO-DMN\",\"0\",\"\",\"Individual\",\"Enforcement\",\"Money Laundering\",\"\",\"Sentenced to 15 months in prison for money laundering - March 11, 2011 (Released on April 13, 2012)\",\"According to the U.S. Federal Bureau of Prisons; (Information as on May 5, 2017):   Name: Luiz Manuel Roman Register Number: 59433-279 Age: 44 Race: White Sex: Male Released On: 04/13/2012  According to United States Attorney - District of Minnesota and U.S. Drug Enforcement Administration; January 06, 2012: On January 06, 2012, in federal court, Fairbault man was sentenced in connection with a Mexican-based drug cartel that distributed methamphetamine and cocaine throughout Minnesota from 2005 through 2009. United States District Court Judge sentenced Oscar Damian Limon to three years of probation on one count of conspiracy to distribute cocaine. Limon, who was indicted along with 26 co-defendants on April 21, 2009, pleaded guilty on September 11, 2009. At the direction of drug kingpin Roberto Guadalupe Aleman, the members of this conspiracy imported hundreds of kilograms of cocaine into the U.S. from Mexico, and then transported the cocaine from the Texas-Mexico border into the State of Minnesota for distribution and resale.  On March 11, 2011, Luiz Manuel Roman, was sentenced to fifteen months in prison, he and his co-defendants admitted conspiring to conduct structured financial transactions involving drug-trafficking proceeds. Law enforcement officers also seized approximately USD 120,000 in drug-trafficking proceeds from the bank account of Maria Aleman. During the course of the investigation, police seized more than USD 505,000 in four separate seizures, including one at the Minneapolis-St. Paul International Airport.  During several seizures in Minnesota and Texas between July 07, 2008, and April 25, 2009, police seized more than 45 kilograms of cocaine from couriers and customers of the organization. The affidavit states that the organization was transporting approximately 10 to 30 kilograms of cocaine each month into the State of Minnesota for the duration of the conspiracy. In addition, federal law enforcement authorities traced the banking activity of several defendants, uncovering a complex web of structured cash deposits in Minnesota banks followed by withdrawals from Hidalgo area banks. These structured transactions totaled more than USD 3,700,000 during the course of the three-year conspiracy.  According to the United States Attorney - District of Minnesota; April 29, 2009: Twenty-six individuals were recently indicted in connection with a Mexican-based drug cartel that distributed methamphetamine and cocaine throughout Minnesota for the past several years. The indictment was unsealed on April 29, 2009, following the arrest of 23 of the individuals in both Minnesota and Texas.  One of the defendant Luiz Manuel Roman, was charged with one count of conspiracy to distribute methamphetamine and cocaine, he was also charged with one count of conspiracy to commit money laundering.\",\"1972\",\"\",\"United States\",\"\",\"\",\"\",\"\",\"0\",\"https://web.archive.org/web/20100307190830/https://www.justice.gov/usao/mn/narc/narc0164.pdf;https://www.justice.gov/archive/usao/mn/limonsentenced.html;https://www.worldcompliance.com/Search/Article.aspx?id=8e393aaf-e5f5-4088-ac15-8b8fcc4e25bc;https://www.worldcompliance.com/Search/Article.aspx?id=b94b0047-3aa8-45b2-845c-7e5dca549598;http://www.dea.gov/divisions/chi/2012/chi010912p.html;http://www.bop.gov/inmateloc/\",\"5/5/2017 1:04:48 AM\",\"7ed34817-c78f-43ad-81fa-bdc155d8613e\",\"\",\"\",\"\",\"1973\",\"N/A\",\"0\",\"0\",\"1\",\"\",\"\",\"M\",\"2020/5/9\",\"./ErnstYoungChinaAdvisory/2020-05-09/full_xml_split10.xml\"',\n",
       " '\"1574256\",\"Chaffetz, Jason E\",\"Jason E\",\"Chaffetz\",\"\",\"\",\"\",\"Website\",\"0\",\"\",\"Individual\",\"PEP\",\"Former PEP\",\"\",\"Former Member of the United States Congress (January 03, 2009 - June 30, 2017).\",\"Political Party: Republican Party  Career: Member of the United States Congress, House of Representatives from Utah District 03 (January 03, 2009 - June 30, 2017): Chief of Staff to the Governor of Utah (2015 - 2015).\",\"March 26, 1967\",\"Los Gatos, California, United States\",\"United States\",\"2017\",\"2009\",\"\\\\UnitedStates\\\\1574256.png\",\"\",\"0\",\"http://archive.ipu.org/parline-e/reports/2339.htm;https://www.ourcampaigns.com/CandidateDetail.html?CandidateID=149847;https://ballotpedia.org/Jason_Chaffetz;https://ballotpedia.org/Utah\\'s_3rd_Congressional_District_election,_2016;http://bioguide.congress.gov/scripts/biodisplay.pl?index=C001076;http://www.nndb.com/people/594/000180054/;https://web.archive.org/web/20120315083336/http://www.jasonforcongress.com/about;http://chaffetz.house.gov/;http://ballotpedia.org/wiki/index.php/Jason_Chaffetz;http://votesmart.org/candidate/biography/103482/jason-chaffetz#.Ve6cMNKeDGe;http://www.house.gov/representatives/\",\"2/4/2020 7:01:32 AM\",\"002a7ae0-5ae8-4506-a9a7-ea6f4242ccc8\",\"\",\"\",\"\",\"\",\"National\",\"0\",\"0\",\"1\",\"\",\"\",\"M\",\"2020/6/29\",\"./ErnstYoungChinaAdvisory/2020-06-29/WorldCompliance_2020-06-29.zip_files\\\\WorldCompliance_2020-06-29.xml\"',\n",
       " '\"1574257\",\"Leal, Miriam\",\"Miriam\",\"Leal\",\"\",\"\",\"\",\"US-AO-DMN\",\"0\",\"\",\"Individual\",\"Enforcement\",\"Money Laundering\",\"\",\"Sentenced to three years of probation for money laundering and drug trafficking - April 11, 2011\",\"According to United States Attorney - District of Minnesota and U.S. Drug Enforcement Administration; January 06, 2012: On January 06, 2012, in federal court, Fairbault man was sentenced in connection with a Mexican-based drug cartel that distributed methamphetamine and cocaine throughout Minnesota from 2005 through 2009. United States District Court Judge sentenced Oscar Damian Limon to three years of probation on one count of conspiracy to distribute cocaine. Limon, who was indicted along with 26 co-defendants on April 21, 2009, pleaded guilty on September 11, 2009. At the direction of drug kingpin Roberto Guadalupe Aleman, the members of this conspiracy imported hundreds of kilograms of cocaine into the U.S. from Mexico, and then transported the cocaine from the Texas-Mexico border into the State of Minnesota for distribution and resale.  On April 11, 2011, Miriam Leal, was sentenced to three years of probation, she and her co-defendants admitted conspiring to conduct structured financial transactions involving drug-trafficking proceeds. Law enforcement officers also seized approximately USD 120,000 in drug-trafficking proceeds from the bank account of Maria Aleman. During the course of the investigation, police seized more than USD 505,000 in four separate seizures, including one at the Minneapolis-St. Paul International Airport.  During several seizures in Minnesota and Texas between July 07, 2008, and April 25, 2009, police seized more than 45 kilograms of cocaine from couriers and customers of the organization. The affidavit states that the organization was transporting approximately 10 to 30 kilograms of cocaine each month into the State of Minnesota for the duration of the conspiracy. In addition, federal law enforcement authorities traced the banking activity of several defendants, uncovering a complex web of structured cash deposits in Minnesota banks followed by withdrawals from Hidalgo area banks. These structured transactions totaled more than USD 3,700,000 during the course of the three-year conspiracy.  According to the United States Attorney - District of Minnesota; April 29, 2009: Twenty-six individuals were recently indicted in connection with a Mexican-based drug cartel that distributed methamphetamine and cocaine throughout Minnesota for the past several years. The indictment was unsealed on April 29, 2009, following the arrest of 23 of the individuals in both Minnesota and Texas.  One of the defendant Miriam Leal, was charged with one count of conspiracy to distribute methamphetamine and cocaine, he was also charged with one count of conspiracy to commit money laundering.\",\"1979\",\"\",\"United States\",\"\",\"\",\"\",\"\",\"0\",\"https://web.archive.org/web/20100307190830/https://www.justice.gov/usao/mn/narc/narc0164.pdf;https://www.justice.gov/archive/usao/mn/limonsentenced.html;https://www.worldcompliance.com/Search/Article.aspx?id=8e393aaf-e5f5-4088-ac15-8b8fcc4e25bc;https://www.worldcompliance.com/Search/Article.aspx?id=b94b0047-3aa8-45b2-845c-7e5dca549598;http://www.dea.gov/divisions/chi/2012/chi010912p.html\",\"5/4/2017 8:04:05 AM\",\"3e3ea3a0-7bd7-4b61-80ce-da9f1be318fa\",\"\",\"\",\"\",\"1980\",\"N/A\",\"0\",\"0\",\"1\",\"\",\"\",\"F\",\"2020/5/9\",\"./ErnstYoungChinaAdvisory/2020-05-09/full_xml_split10.xml\"']"
      ]
     },
     "execution_count": 138,
     "metadata": {},
     "output_type": "execute_result"
    }
   ],
   "source": [
    "textfile.take(5)"
   ]
  },
  {
   "cell_type": "code",
   "execution_count": 122,
   "metadata": {},
   "outputs": [
    {
     "data": {
      "text/plain": [
       "11"
      ]
     },
     "execution_count": 122,
     "metadata": {},
     "output_type": "execute_result"
    }
   ],
   "source": [
    "lnRDD = textfile.map(lambda line:line.split('\",\"')) # 文件的每一行按照“,”拆分"
   ]
  },
  {
   "cell_type": "code",
   "execution_count": 133,
   "metadata": {},
   "outputs": [
    {
     "name": "stdout",
     "output_type": "stream",
     "text": [
      "+--------+--------------------+-----------------+----------+------+------+---+----------+--------+--------------+----------+-------------+------------------+------------+--------------------+--------------------+-----------------+--------------------+------------------+--------------+-------------+--------------------+--------+----------+--------------------+--------------------+--------------------+----------+----------+-----------+----+--------+--------+-----+-------------+--------------------+-------------+------+-----------------+----------------------+\n",
      "| \"Ent_ID|                Name|        FirstName|  LastName|Prefix|Suffix|Aka|NameSource|ParentID|GovDesignation| EntryType|EntryCategory|  EntrySubCategory|Organization|           Positions|             Remarks|              DOB|                 POB|           Country|ExpirationDate|EffectiveDate|         PictureFile|LinkedTo|Related_ID|       SourceWebLink|           TouchDate|            DirectID|PassportID|NationalID|    OtherID|DOB2|EntLevel|MasterID|Watch|Relationships|         PrimaryName|OriginalName2|Gender|EY_DailyDeltaDate|EY_DailyDeltaFilename\"|\n",
      "+--------+--------------------+-----------------+----------+------+------+---+----------+--------+--------------+----------+-------------+------------------+------------+--------------------+--------------------+-----------------+--------------------+------------------+--------------+-------------+--------------------+--------+----------+--------------------+--------------------+--------------------+----------+----------+-----------+----+--------+--------+-----+-------------+--------------------+-------------+------+-----------------+----------------------+\n",
      "|\"1574372|Skvortsova, Veron...|Veronika Igorevna|Skvortsova|      |      |   |   Website|       0|              |Individual|          PEP|Govt Branch Member|            |Head of the Feder...|Career: Head, eff...|November 01, 1960|    Moscow, , Russia|Russian Federation|              |         2020| \\Russia\\1574372.png|        |         0|http://fmbaros.ru...| 2/3/2020 1:03:48 AM|5a47a8bd-80dc-4a3...|          |          |           |    |National|       0|    0|            1|Вероника Игоревна...|             |     F|        2020/7/20|  ./ErnstYoungChina...|\n",
      "|\"1574701|Alperovich, José ...|       José Jorge|Alperovich|      |      |   |   Website|       0|              |Individual|          PEP|Govt Branch Member|            |Member of the Nat...|According to clar...|   April 13, 1955|Banda del Río Sal...|         Argentina|          2021|         2015|\\Argentina\\157470...|        |         0|https://web.archi...|7/3/2020 12:00:39 PM|aba74a29-eaa4-4b0...|          |  11708616|20117086160|    |National|       0|    1|            1|                    |             |     M|        2020/7/20|  ./ErnstYoungChina...|\n",
      "|\"1575309|        Erwin, Kevin|            Kevin|     Erwin|      |      |   |US-AO-WDMI|       0|              |Individual|  Enforcement|        Bank Fraud|            |Sentenced to 120 ...|According to the ...|             1966|                    |     United States|              |             |                    |        |         0|http://web.archiv...|7/14/2020 11:22:0...|5fcd6e49-22d1-490...|          |          |  12412-111|1967|     N/A|       0|    0|            1|                    |             |     M|        2020/7/20|  ./ErnstYoungChina...|\n",
      "|\"1575311|Bruce, Doneisha L...|   Doneisha Lanee|     Bruce|      |      |   |US-AO-WDMI|       0|              |Individual|  Enforcement|        Bank Fraud|            |Sentenced to 41 m...|According to U.S....|                 |                    |     United States|              |             |                    |        |         0|http://web.archiv...|6/25/2020 4:02:42 AM|c3755513-ff16-4b4...|          |          |           |    |     N/A|       0|    0|            1|                    |             |     M|        2020/7/20|  ./ErnstYoungChina...|\n",
      "|\"1575314| Wilson, Dale Louise|      Dale Louise|    Wilson|      |      |   |  US-COURT|       0|              |Individual|  Enforcement|        Bank Fraud|            |Sentenced to 65 m...|According to the ...|             1953|                    |     United States|              |             |                    |        |         0|https://members.w...|7/14/2020 10:18:0...|3c1b1c6b-9cb5-4fc...|          |          |  12467-111|1952|     N/A|       0|    0|            1|                    |             |     F|        2020/7/20|  ./ErnstYoungChina...|\n",
      "|\"1575316|Leblanc, Willie J...|     Willie Jesus|   Leblanc|      |      |   |US-AO-WDMI|       0|              |Individual|  Enforcement|        Bank Fraud|            |Sentenced to 33 m...|According to U.S....|             1979|                    |     United States|              |             |                    |        |         0|https://web.archi...|6/25/2020 3:02:25 AM|95fc7dda-3ba8-427...|          |          |  14127-111|1978|     N/A|       0|    0|            1|                    |             |     M|        2020/7/20|  ./ErnstYoungChina...|\n",
      "|\"1575317|Pratt, Laquida Br...| Laquida Breshuin|     Pratt|      |      |   |US-AO-WDMI|       0|              |Individual|  Enforcement|        Bank Fraud|            |Sentenced to 57 m...|According to the ...|             1976|                    |     United States|              |             |                    |        |         0|https://members.w...|6/25/2020 4:02:42 AM|2274bad3-f9f0-44e...|          |          |  12809-111|1975|     N/A|       0|    0|            1|                    |             |     F|        2020/7/20|  ./ErnstYoungChina...|\n",
      "|\"1575318|Aldridge, Mocha M...|     Mocha Myesha|  Aldridge|      |      |   |US-AO-WDMI|       0|              |Individual|  Enforcement|        Bank Fraud|            |Sentenced to 48 m...|According to the ...|             1978|                    |     United States|              |             |                    |        |         0|https://archives....|6/25/2020 3:02:25 AM|2910c657-2d61-43f...|          |          |  12475-111|1979|     N/A|       0|    0|            1|                    |             |     F|        2020/7/20|  ./ErnstYoungChina...|\n",
      "|\"1575319|Kennard, Alaiya M...|  Alaiya Minyonne|   Kennard|      |      |   |  US-COURT|       0|              |Individual|  Enforcement|        Bank Fraud|            |Sentenced to 24 m...|According to the ...|             1977|                    |     United States|              |             |                    |        |         0|https://members.w...|6/25/2020 4:02:42 AM|5911e9bf-a3d3-4e7...|          |          |  14313-040|1976|     N/A|       0|    0|            1|                    |             |     F|        2020/7/20|  ./ErnstYoungChina...|\n",
      "|\"1575401|  Tsarukyan, Nikolay|          Nikolay| Tsarukyan|      |      |   |   Website|       0|              |Individual|          PEP|     Family Member|            |Father of Gagik T...|Personal: Son: Ga...|                 |                    |           Armenia|              |             |\\Armenia\\1575401.jpg|        |         0|http://www.parlia...|3/15/2019 12:00:4...|d51f2f79-bfc2-4a7...|          |          |           |    |National|       0|    0|            1|   Նիկոլայ Ծառուկյան|             |     M|        2020/7/20|  ./ErnstYoungChina...|\n",
      "+--------+--------------------+-----------------+----------+------+------+---+----------+--------+--------------+----------+-------------+------------------+------------+--------------------+--------------------+-----------------+--------------------+------------------+--------------+-------------+--------------------+--------+----------+--------------------+--------------------+--------------------+----------+----------+-----------+----+--------+--------+-----+-------------+--------------------+-------------+------+-----------------+----------------------+\n",
      "\n"
     ]
    }
   ],
   "source": [
    "df = lnRDD.filter(lambda x: x[0] != '\"Ent_ID').toDF(lnRDD.first())"
   ]
  },
  {
   "cell_type": "code",
   "execution_count": 139,
   "metadata": {},
   "outputs": [
    {
     "data": {
      "text/plain": [
       "10"
      ]
     },
     "execution_count": 139,
     "metadata": {},
     "output_type": "execute_result"
    }
   ],
   "source": [
    "df.count()"
   ]
  },
  {
   "cell_type": "code",
   "execution_count": 132,
   "metadata": {},
   "outputs": [
    {
     "ename": "AnalysisException",
     "evalue": "'filter expression \\'`OriginalName2`\\' of type string is not a boolean.;;\\nFilter OriginalName2#944: string\\n+- LogicalRDD [\"Ent_ID#908, Name#909, FirstName#910, LastName#911, Prefix#912, Suffix#913, Aka#914, NameSource#915, ParentID#916, GovDesignation#917, EntryType#918, EntryCategory#919, EntrySubCategory#920, Organization#921, Positions#922, Remarks#923, DOB#924, POB#925, Country#926, ExpirationDate#927, EffectiveDate#928, PictureFile#929, LinkedTo#930, Related_ID#931, ... 16 more fields], false\\n'",
     "output_type": "error",
     "traceback": [
      "\u001b[1;31m---------------------------------------------------------------------------\u001b[0m",
      "\u001b[1;31mPy4JJavaError\u001b[0m                             Traceback (most recent call last)",
      "\u001b[1;32m~\\AppData\\Local\\Continuum\\anaconda3\\lib\\site-packages\\pyspark\\sql\\utils.py\u001b[0m in \u001b[0;36mdeco\u001b[1;34m(*a, **kw)\u001b[0m\n\u001b[0;32m     62\u001b[0m         \u001b[1;32mtry\u001b[0m\u001b[1;33m:\u001b[0m\u001b[1;33m\u001b[0m\u001b[1;33m\u001b[0m\u001b[0m\n\u001b[1;32m---> 63\u001b[1;33m             \u001b[1;32mreturn\u001b[0m \u001b[0mf\u001b[0m\u001b[1;33m(\u001b[0m\u001b[1;33m*\u001b[0m\u001b[0ma\u001b[0m\u001b[1;33m,\u001b[0m \u001b[1;33m**\u001b[0m\u001b[0mkw\u001b[0m\u001b[1;33m)\u001b[0m\u001b[1;33m\u001b[0m\u001b[1;33m\u001b[0m\u001b[0m\n\u001b[0m\u001b[0;32m     64\u001b[0m         \u001b[1;32mexcept\u001b[0m \u001b[0mpy4j\u001b[0m\u001b[1;33m.\u001b[0m\u001b[0mprotocol\u001b[0m\u001b[1;33m.\u001b[0m\u001b[0mPy4JJavaError\u001b[0m \u001b[1;32mas\u001b[0m \u001b[0me\u001b[0m\u001b[1;33m:\u001b[0m\u001b[1;33m\u001b[0m\u001b[1;33m\u001b[0m\u001b[0m\n",
      "\u001b[1;32m~\\AppData\\Local\\Continuum\\anaconda3\\lib\\site-packages\\py4j\\protocol.py\u001b[0m in \u001b[0;36mget_return_value\u001b[1;34m(answer, gateway_client, target_id, name)\u001b[0m\n\u001b[0;32m    327\u001b[0m                     \u001b[1;34m\"An error occurred while calling {0}{1}{2}.\\n\"\u001b[0m\u001b[1;33m.\u001b[0m\u001b[1;33m\u001b[0m\u001b[1;33m\u001b[0m\u001b[0m\n\u001b[1;32m--> 328\u001b[1;33m                     format(target_id, \".\", name), value)\n\u001b[0m\u001b[0;32m    329\u001b[0m             \u001b[1;32melse\u001b[0m\u001b[1;33m:\u001b[0m\u001b[1;33m\u001b[0m\u001b[1;33m\u001b[0m\u001b[0m\n",
      "\u001b[1;31mPy4JJavaError\u001b[0m: An error occurred while calling o1107.filter.\n: org.apache.spark.sql.AnalysisException: filter expression '`OriginalName2`' of type string is not a boolean.;;\nFilter OriginalName2#944: string\n+- LogicalRDD [\"Ent_ID#908, Name#909, FirstName#910, LastName#911, Prefix#912, Suffix#913, Aka#914, NameSource#915, ParentID#916, GovDesignation#917, EntryType#918, EntryCategory#919, EntrySubCategory#920, Organization#921, Positions#922, Remarks#923, DOB#924, POB#925, Country#926, ExpirationDate#927, EffectiveDate#928, PictureFile#929, LinkedTo#930, Related_ID#931, ... 16 more fields], false\n\r\n\tat org.apache.spark.sql.catalyst.analysis.CheckAnalysis$class.failAnalysis(CheckAnalysis.scala:43)\r\n\tat org.apache.spark.sql.catalyst.analysis.Analyzer.failAnalysis(Analyzer.scala:95)\r\n\tat org.apache.spark.sql.catalyst.analysis.CheckAnalysis$$anonfun$checkAnalysis$1.apply(CheckAnalysis.scala:172)\r\n\tat org.apache.spark.sql.catalyst.analysis.CheckAnalysis$$anonfun$checkAnalysis$1.apply(CheckAnalysis.scala:86)\r\n\tat org.apache.spark.sql.catalyst.trees.TreeNode.foreachUp(TreeNode.scala:126)\r\n\tat org.apache.spark.sql.catalyst.analysis.CheckAnalysis$class.checkAnalysis(CheckAnalysis.scala:86)\r\n\tat org.apache.spark.sql.catalyst.analysis.Analyzer.checkAnalysis(Analyzer.scala:95)\r\n\tat org.apache.spark.sql.catalyst.analysis.Analyzer$$anonfun$executeAndCheck$1.apply(Analyzer.scala:108)\r\n\tat org.apache.spark.sql.catalyst.analysis.Analyzer$$anonfun$executeAndCheck$1.apply(Analyzer.scala:105)\r\n\tat org.apache.spark.sql.catalyst.plans.logical.AnalysisHelper$.markInAnalyzer(AnalysisHelper.scala:201)\r\n\tat org.apache.spark.sql.catalyst.analysis.Analyzer.executeAndCheck(Analyzer.scala:105)\r\n\tat org.apache.spark.sql.execution.QueryExecution.analyzed$lzycompute(QueryExecution.scala:58)\r\n\tat org.apache.spark.sql.execution.QueryExecution.analyzed(QueryExecution.scala:56)\r\n\tat org.apache.spark.sql.execution.QueryExecution.assertAnalyzed(QueryExecution.scala:48)\r\n\tat org.apache.spark.sql.Dataset.<init>(Dataset.scala:176)\r\n\tat org.apache.spark.sql.Dataset.<init>(Dataset.scala:182)\r\n\tat org.apache.spark.sql.Dataset$.apply(Dataset.scala:64)\r\n\tat org.apache.spark.sql.Dataset.withTypedPlan(Dataset.scala:3417)\r\n\tat org.apache.spark.sql.Dataset.filter(Dataset.scala:1490)\r\n\tat sun.reflect.NativeMethodAccessorImpl.invoke0(Native Method)\r\n\tat sun.reflect.NativeMethodAccessorImpl.invoke(NativeMethodAccessorImpl.java:62)\r\n\tat sun.reflect.DelegatingMethodAccessorImpl.invoke(DelegatingMethodAccessorImpl.java:43)\r\n\tat java.lang.reflect.Method.invoke(Method.java:498)\r\n\tat py4j.reflection.MethodInvoker.invoke(MethodInvoker.java:244)\r\n\tat py4j.reflection.ReflectionEngine.invoke(ReflectionEngine.java:357)\r\n\tat py4j.Gateway.invoke(Gateway.java:282)\r\n\tat py4j.commands.AbstractCommand.invokeMethod(AbstractCommand.java:132)\r\n\tat py4j.commands.CallCommand.execute(CallCommand.java:79)\r\n\tat py4j.GatewayConnection.run(GatewayConnection.java:238)\r\n\tat java.lang.Thread.run(Thread.java:748)\r\n",
      "\nDuring handling of the above exception, another exception occurred:\n",
      "\u001b[1;31mAnalysisException\u001b[0m                         Traceback (most recent call last)",
      "\u001b[1;32m<ipython-input-132-60498058edc8>\u001b[0m in \u001b[0;36m<module>\u001b[1;34m\u001b[0m\n\u001b[1;32m----> 1\u001b[1;33m \u001b[0mdf\u001b[0m\u001b[1;33m[\u001b[0m\u001b[0mdf\u001b[0m\u001b[1;33m[\u001b[0m\u001b[1;34m'OriginalName2'\u001b[0m\u001b[1;33m]\u001b[0m\u001b[1;33m]\u001b[0m\u001b[1;33m.\u001b[0m\u001b[0mshow\u001b[0m\u001b[1;33m(\u001b[0m\u001b[1;33m)\u001b[0m\u001b[1;33m\u001b[0m\u001b[1;33m\u001b[0m\u001b[0m\n\u001b[0m",
      "\u001b[1;32m~\\AppData\\Local\\Continuum\\anaconda3\\lib\\site-packages\\pyspark\\sql\\dataframe.py\u001b[0m in \u001b[0;36m__getitem__\u001b[1;34m(self, item)\u001b[0m\n\u001b[0;32m   1284\u001b[0m             \u001b[1;32mreturn\u001b[0m \u001b[0mColumn\u001b[0m\u001b[1;33m(\u001b[0m\u001b[0mjc\u001b[0m\u001b[1;33m)\u001b[0m\u001b[1;33m\u001b[0m\u001b[1;33m\u001b[0m\u001b[0m\n\u001b[0;32m   1285\u001b[0m         \u001b[1;32melif\u001b[0m \u001b[0misinstance\u001b[0m\u001b[1;33m(\u001b[0m\u001b[0mitem\u001b[0m\u001b[1;33m,\u001b[0m \u001b[0mColumn\u001b[0m\u001b[1;33m)\u001b[0m\u001b[1;33m:\u001b[0m\u001b[1;33m\u001b[0m\u001b[1;33m\u001b[0m\u001b[0m\n\u001b[1;32m-> 1286\u001b[1;33m             \u001b[1;32mreturn\u001b[0m \u001b[0mself\u001b[0m\u001b[1;33m.\u001b[0m\u001b[0mfilter\u001b[0m\u001b[1;33m(\u001b[0m\u001b[0mitem\u001b[0m\u001b[1;33m)\u001b[0m\u001b[1;33m\u001b[0m\u001b[1;33m\u001b[0m\u001b[0m\n\u001b[0m\u001b[0;32m   1287\u001b[0m         \u001b[1;32melif\u001b[0m \u001b[0misinstance\u001b[0m\u001b[1;33m(\u001b[0m\u001b[0mitem\u001b[0m\u001b[1;33m,\u001b[0m \u001b[1;33m(\u001b[0m\u001b[0mlist\u001b[0m\u001b[1;33m,\u001b[0m \u001b[0mtuple\u001b[0m\u001b[1;33m)\u001b[0m\u001b[1;33m)\u001b[0m\u001b[1;33m:\u001b[0m\u001b[1;33m\u001b[0m\u001b[1;33m\u001b[0m\u001b[0m\n\u001b[0;32m   1288\u001b[0m             \u001b[1;32mreturn\u001b[0m \u001b[0mself\u001b[0m\u001b[1;33m.\u001b[0m\u001b[0mselect\u001b[0m\u001b[1;33m(\u001b[0m\u001b[1;33m*\u001b[0m\u001b[0mitem\u001b[0m\u001b[1;33m)\u001b[0m\u001b[1;33m\u001b[0m\u001b[1;33m\u001b[0m\u001b[0m\n",
      "\u001b[1;32m~\\AppData\\Local\\Continuum\\anaconda3\\lib\\site-packages\\pyspark\\sql\\dataframe.py\u001b[0m in \u001b[0;36mfilter\u001b[1;34m(self, condition)\u001b[0m\n\u001b[0;32m   1362\u001b[0m             \u001b[0mjdf\u001b[0m \u001b[1;33m=\u001b[0m \u001b[0mself\u001b[0m\u001b[1;33m.\u001b[0m\u001b[0m_jdf\u001b[0m\u001b[1;33m.\u001b[0m\u001b[0mfilter\u001b[0m\u001b[1;33m(\u001b[0m\u001b[0mcondition\u001b[0m\u001b[1;33m)\u001b[0m\u001b[1;33m\u001b[0m\u001b[1;33m\u001b[0m\u001b[0m\n\u001b[0;32m   1363\u001b[0m         \u001b[1;32melif\u001b[0m \u001b[0misinstance\u001b[0m\u001b[1;33m(\u001b[0m\u001b[0mcondition\u001b[0m\u001b[1;33m,\u001b[0m \u001b[0mColumn\u001b[0m\u001b[1;33m)\u001b[0m\u001b[1;33m:\u001b[0m\u001b[1;33m\u001b[0m\u001b[1;33m\u001b[0m\u001b[0m\n\u001b[1;32m-> 1364\u001b[1;33m             \u001b[0mjdf\u001b[0m \u001b[1;33m=\u001b[0m \u001b[0mself\u001b[0m\u001b[1;33m.\u001b[0m\u001b[0m_jdf\u001b[0m\u001b[1;33m.\u001b[0m\u001b[0mfilter\u001b[0m\u001b[1;33m(\u001b[0m\u001b[0mcondition\u001b[0m\u001b[1;33m.\u001b[0m\u001b[0m_jc\u001b[0m\u001b[1;33m)\u001b[0m\u001b[1;33m\u001b[0m\u001b[1;33m\u001b[0m\u001b[0m\n\u001b[0m\u001b[0;32m   1365\u001b[0m         \u001b[1;32melse\u001b[0m\u001b[1;33m:\u001b[0m\u001b[1;33m\u001b[0m\u001b[1;33m\u001b[0m\u001b[0m\n\u001b[0;32m   1366\u001b[0m             \u001b[1;32mraise\u001b[0m \u001b[0mTypeError\u001b[0m\u001b[1;33m(\u001b[0m\u001b[1;34m\"condition should be string or Column\"\u001b[0m\u001b[1;33m)\u001b[0m\u001b[1;33m\u001b[0m\u001b[1;33m\u001b[0m\u001b[0m\n",
      "\u001b[1;32m~\\AppData\\Local\\Continuum\\anaconda3\\lib\\site-packages\\py4j\\java_gateway.py\u001b[0m in \u001b[0;36m__call__\u001b[1;34m(self, *args)\u001b[0m\n\u001b[0;32m   1255\u001b[0m         \u001b[0manswer\u001b[0m \u001b[1;33m=\u001b[0m \u001b[0mself\u001b[0m\u001b[1;33m.\u001b[0m\u001b[0mgateway_client\u001b[0m\u001b[1;33m.\u001b[0m\u001b[0msend_command\u001b[0m\u001b[1;33m(\u001b[0m\u001b[0mcommand\u001b[0m\u001b[1;33m)\u001b[0m\u001b[1;33m\u001b[0m\u001b[1;33m\u001b[0m\u001b[0m\n\u001b[0;32m   1256\u001b[0m         return_value = get_return_value(\n\u001b[1;32m-> 1257\u001b[1;33m             answer, self.gateway_client, self.target_id, self.name)\n\u001b[0m\u001b[0;32m   1258\u001b[0m \u001b[1;33m\u001b[0m\u001b[0m\n\u001b[0;32m   1259\u001b[0m         \u001b[1;32mfor\u001b[0m \u001b[0mtemp_arg\u001b[0m \u001b[1;32min\u001b[0m \u001b[0mtemp_args\u001b[0m\u001b[1;33m:\u001b[0m\u001b[1;33m\u001b[0m\u001b[1;33m\u001b[0m\u001b[0m\n",
      "\u001b[1;32m~\\AppData\\Local\\Continuum\\anaconda3\\lib\\site-packages\\pyspark\\sql\\utils.py\u001b[0m in \u001b[0;36mdeco\u001b[1;34m(*a, **kw)\u001b[0m\n\u001b[0;32m     67\u001b[0m                                              e.java_exception.getStackTrace()))\n\u001b[0;32m     68\u001b[0m             \u001b[1;32mif\u001b[0m \u001b[0ms\u001b[0m\u001b[1;33m.\u001b[0m\u001b[0mstartswith\u001b[0m\u001b[1;33m(\u001b[0m\u001b[1;34m'org.apache.spark.sql.AnalysisException: '\u001b[0m\u001b[1;33m)\u001b[0m\u001b[1;33m:\u001b[0m\u001b[1;33m\u001b[0m\u001b[1;33m\u001b[0m\u001b[0m\n\u001b[1;32m---> 69\u001b[1;33m                 \u001b[1;32mraise\u001b[0m \u001b[0mAnalysisException\u001b[0m\u001b[1;33m(\u001b[0m\u001b[0ms\u001b[0m\u001b[1;33m.\u001b[0m\u001b[0msplit\u001b[0m\u001b[1;33m(\u001b[0m\u001b[1;34m': '\u001b[0m\u001b[1;33m,\u001b[0m \u001b[1;36m1\u001b[0m\u001b[1;33m)\u001b[0m\u001b[1;33m[\u001b[0m\u001b[1;36m1\u001b[0m\u001b[1;33m]\u001b[0m\u001b[1;33m,\u001b[0m \u001b[0mstackTrace\u001b[0m\u001b[1;33m)\u001b[0m\u001b[1;33m\u001b[0m\u001b[1;33m\u001b[0m\u001b[0m\n\u001b[0m\u001b[0;32m     70\u001b[0m             \u001b[1;32mif\u001b[0m \u001b[0ms\u001b[0m\u001b[1;33m.\u001b[0m\u001b[0mstartswith\u001b[0m\u001b[1;33m(\u001b[0m\u001b[1;34m'org.apache.spark.sql.catalyst.analysis'\u001b[0m\u001b[1;33m)\u001b[0m\u001b[1;33m:\u001b[0m\u001b[1;33m\u001b[0m\u001b[1;33m\u001b[0m\u001b[0m\n\u001b[0;32m     71\u001b[0m                 \u001b[1;32mraise\u001b[0m \u001b[0mAnalysisException\u001b[0m\u001b[1;33m(\u001b[0m\u001b[0ms\u001b[0m\u001b[1;33m.\u001b[0m\u001b[0msplit\u001b[0m\u001b[1;33m(\u001b[0m\u001b[1;34m': '\u001b[0m\u001b[1;33m,\u001b[0m \u001b[1;36m1\u001b[0m\u001b[1;33m)\u001b[0m\u001b[1;33m[\u001b[0m\u001b[1;36m1\u001b[0m\u001b[1;33m]\u001b[0m\u001b[1;33m,\u001b[0m \u001b[0mstackTrace\u001b[0m\u001b[1;33m)\u001b[0m\u001b[1;33m\u001b[0m\u001b[1;33m\u001b[0m\u001b[0m\n",
      "\u001b[1;31mAnalysisException\u001b[0m: 'filter expression \\'`OriginalName2`\\' of type string is not a boolean.;;\\nFilter OriginalName2#944: string\\n+- LogicalRDD [\"Ent_ID#908, Name#909, FirstName#910, LastName#911, Prefix#912, Suffix#913, Aka#914, NameSource#915, ParentID#916, GovDesignation#917, EntryType#918, EntryCategory#919, EntrySubCategory#920, Organization#921, Positions#922, Remarks#923, DOB#924, POB#925, Country#926, ExpirationDate#927, EffectiveDate#928, PictureFile#929, LinkedTo#930, Related_ID#931, ... 16 more fields], false\\n'"
     ]
    }
   ],
   "source": []
  },
  {
   "cell_type": "code",
   "execution_count": 71,
   "metadata": {},
   "outputs": [],
   "source": [
    "from pyspark.sql import SparkSession, Row"
   ]
  },
  {
   "cell_type": "code",
   "execution_count": 85,
   "metadata": {},
   "outputs": [
    {
     "data": {
      "text/html": [
       "\n",
       "            <div>\n",
       "                <p><b>SparkSession - in-memory</b></p>\n",
       "                \n",
       "        <div>\n",
       "            <p><b>SparkContext</b></p>\n",
       "\n",
       "            <p><a href=\"http://CN2368631W1.ey.net:4040\">Spark UI</a></p>\n",
       "\n",
       "            <dl>\n",
       "              <dt>Version</dt>\n",
       "                <dd><code>v2.4.5</code></dd>\n",
       "              <dt>Master</dt>\n",
       "                <dd><code>local</code></dd>\n",
       "              <dt>AppName</dt>\n",
       "                <dd><code>My App</code></dd>\n",
       "            </dl>\n",
       "        </div>\n",
       "        \n",
       "            </div>\n",
       "        "
      ],
      "text/plain": [
       "<pyspark.sql.session.SparkSession at 0x1fadadd7400>"
      ]
     },
     "execution_count": 85,
     "metadata": {},
     "output_type": "execute_result"
    }
   ],
   "source": [
    "session = SparkSession.builder.getOrCreate()\n",
    "session"
   ]
  },
  {
   "cell_type": "code",
   "execution_count": 86,
   "metadata": {},
   "outputs": [
    {
     "name": "stdout",
     "output_type": "stream",
     "text": [
      "Wall time: 0 ns\n"
     ]
    }
   ],
   "source": [
    "%time \n",
    "ln_rows = lnRDD.map(lambda p:\n",
    "                    Row(\n",
    "                        Ent_ID=p[0].replace('\"',''),\n",
    "                        Name=p[1].replace('\"',''),\n",
    "                        FirstName=p[2].replace('\"',''),\n",
    "                        LastName=p[3].replace('\"','')\n",
    "                    )\n",
    "                   )"
   ]
  },
  {
   "cell_type": "code",
   "execution_count": 87,
   "metadata": {},
   "outputs": [
    {
     "name": "stdout",
     "output_type": "stream",
     "text": [
      "Wall time: 1.88 s\n"
     ]
    },
    {
     "data": {
      "text/plain": [
       "[Row(Ent_ID='Ent_ID', FirstName='FirstName', LastName='LastName', Name='Name'),\n",
       " Row(Ent_ID='1574372', FirstName=' Veronika Igorevna', LastName='Veronika Igorevna', Name='Skvortsova'),\n",
       " Row(Ent_ID='1574701', FirstName=' José Jorge', LastName='José Jorge', Name='Alperovich'),\n",
       " Row(Ent_ID='1575309', FirstName=' Kevin', LastName='Kevin', Name='Erwin'),\n",
       " Row(Ent_ID='1575311', FirstName=' Doneisha Lanee', LastName='Doneisha Lanee', Name='Bruce')]"
      ]
     },
     "execution_count": 87,
     "metadata": {},
     "output_type": "execute_result"
    }
   ],
   "source": [
    "%time ln_rows.take(5)"
   ]
  },
  {
   "cell_type": "code",
   "execution_count": 88,
   "metadata": {},
   "outputs": [
    {
     "name": "stdout",
     "output_type": "stream",
     "text": [
      "root\n",
      " |-- Ent_ID: string (nullable = true)\n",
      " |-- FirstName: string (nullable = true)\n",
      " |-- LastName: string (nullable = true)\n",
      " |-- Name: string (nullable = true)\n",
      "\n"
     ]
    }
   ],
   "source": [
    "ln_df = session.createDataFrame(ln_rows)\n",
    "ln_df.printSchema()"
   ]
  },
  {
   "cell_type": "code",
   "execution_count": 90,
   "metadata": {},
   "outputs": [
    {
     "data": {
      "text/plain": [
       "[Row(Ent_ID='Ent_ID', FirstName='FirstName', LastName='LastName', Name='Name'),\n",
       " Row(Ent_ID='1574372', FirstName=' Veronika Igorevna', LastName='Veronika Igorevna', Name='Skvortsova'),\n",
       " Row(Ent_ID='1574701', FirstName=' José Jorge', LastName='José Jorge', Name='Alperovich'),\n",
       " Row(Ent_ID='1575309', FirstName=' Kevin', LastName='Kevin', Name='Erwin'),\n",
       " Row(Ent_ID='1575311', FirstName=' Doneisha Lanee', LastName='Doneisha Lanee', Name='Bruce')]"
      ]
     },
     "execution_count": 90,
     "metadata": {},
     "output_type": "execute_result"
    }
   ],
   "source": [
    "ln_df.head(5)"
   ]
  },
  {
   "cell_type": "code",
   "execution_count": 91,
   "metadata": {},
   "outputs": [
    {
     "name": "stdout",
     "output_type": "stream",
     "text": [
      "+-------+------------------+-----------------+----------+\n",
      "| Ent_ID|         FirstName|         LastName|      Name|\n",
      "+-------+------------------+-----------------+----------+\n",
      "| Ent_ID|         FirstName|         LastName|      Name|\n",
      "|1574372| Veronika Igorevna|Veronika Igorevna|Skvortsova|\n",
      "|1574701|        José Jorge|       José Jorge|Alperovich|\n",
      "|1575309|             Kevin|            Kevin|     Erwin|\n",
      "|1575311|    Doneisha Lanee|   Doneisha Lanee|     Bruce|\n",
      "+-------+------------------+-----------------+----------+\n",
      "only showing top 5 rows\n",
      "\n"
     ]
    }
   ],
   "source": [
    "ln_df.show(5)"
   ]
  },
  {
   "cell_type": "markdown",
   "metadata": {},
   "source": [
    "建立Spark SQL临时表"
   ]
  },
  {
   "cell_type": "code",
   "execution_count": 94,
   "metadata": {},
   "outputs": [],
   "source": [
    "ln_df.registerTempTable(\"lexisnexis_temp_table\") # 虚拟表"
   ]
  },
  {
   "cell_type": "code",
   "execution_count": 95,
   "metadata": {},
   "outputs": [
    {
     "name": "stdout",
     "output_type": "stream",
     "text": [
      "+--------+\n",
      "|count(1)|\n",
      "+--------+\n",
      "|      11|\n",
      "+--------+\n",
      "\n"
     ]
    }
   ],
   "source": [
    "session.sql('select count(*) from lexisnexis_temp_table').show()"
   ]
  },
  {
   "cell_type": "code",
   "execution_count": 142,
   "metadata": {},
   "outputs": [
    {
     "data": {
      "text/plain": [
       "[('FirstName', 'LastName', '\"Ent_ID', 'Name，你好！'),\n",
       " ('Veronika Igorevna',\n",
       "  'Skvortsova',\n",
       "  '\"1574372',\n",
       "  'Skvortsova, Veronika Igorevna，你好！'),\n",
       " ('José Jorge', 'Alperovich', '\"1574701', 'Alperovich, José Jorge，你好！'),\n",
       " ('Kevin', 'Erwin', '\"1575309', 'Erwin, Kevin，你好！'),\n",
       " ('Doneisha Lanee', 'Bruce', '\"1575311', 'Bruce, Doneisha Lanee，你好！')]"
      ]
     },
     "execution_count": 142,
     "metadata": {},
     "output_type": "execute_result"
    }
   ],
   "source": [
    "lnRDD.map(lambda x: (x[2], x[3], x[0], x[1] + \"，你好！\")).take(5)"
   ]
  },
  {
   "cell_type": "code",
   "execution_count": 153,
   "metadata": {},
   "outputs": [
    {
     "ename": "NameError",
     "evalue": "name 'concat' is not defined",
     "output_type": "error",
     "traceback": [
      "\u001b[1;31m---------------------------------------------------------------------------\u001b[0m",
      "\u001b[1;31mNameError\u001b[0m                                 Traceback (most recent call last)",
      "\u001b[1;32m<ipython-input-153-7f74e2241484>\u001b[0m in \u001b[0;36m<module>\u001b[1;34m\u001b[0m\n\u001b[1;32m----> 1\u001b[1;33m \u001b[0mln_df\u001b[0m\u001b[1;33m.\u001b[0m\u001b[0mselect\u001b[0m\u001b[1;33m(\u001b[0m\u001b[1;34m\"Ent_ID\"\u001b[0m\u001b[1;33m,\u001b[0m \u001b[1;34m\"LastName\"\u001b[0m\u001b[1;33m,\u001b[0m \u001b[1;34m\"FirstName\"\u001b[0m\u001b[1;33m,\u001b[0m\u001b[1;34m\"Name\"\u001b[0m\u001b[1;33m,\u001b[0m \u001b[0mconcat\u001b[0m\u001b[1;33m(\u001b[0m\u001b[0mln_df\u001b[0m\u001b[1;33m.\u001b[0m\u001b[0mName\u001b[0m\u001b[1;33m,\u001b[0m\u001b[1;34m',你好'\u001b[0m\u001b[1;33m)\u001b[0m\u001b[1;33m)\u001b[0m\u001b[1;33m.\u001b[0m\u001b[0mshow\u001b[0m\u001b[1;33m(\u001b[0m\u001b[1;33m)\u001b[0m\u001b[1;33m\u001b[0m\u001b[1;33m\u001b[0m\u001b[0m\n\u001b[0m",
      "\u001b[1;31mNameError\u001b[0m: name 'concat' is not defined"
     ]
    }
   ],
   "source": [
    "ln_df.select(\"Ent_ID\", \"LastName\", \"FirstName\",\"Name\").show()"
   ]
  },
  {
   "cell_type": "code",
   "execution_count": 99,
   "metadata": {},
   "outputs": [
    {
     "name": "stdout",
     "output_type": "stream",
     "text": [
      "+-------+-----------------+\n",
      "| Ent_ID|         LastName|\n",
      "+-------+-----------------+\n",
      "| Ent_ID|         LastName|\n",
      "|1574372|Veronika Igorevna|\n",
      "|1574701|       José Jorge|\n",
      "|1575309|            Kevin|\n",
      "|1575311|   Doneisha Lanee|\n",
      "+-------+-----------------+\n",
      "only showing top 5 rows\n",
      "\n"
     ]
    }
   ],
   "source": [
    "ln_df.select(ln_df.Ent_ID, ln_df.LastName).show(5)"
   ]
  },
  {
   "cell_type": "code",
   "execution_count": 100,
   "metadata": {},
   "outputs": [
    {
     "name": "stdout",
     "output_type": "stream",
     "text": [
      "+-------+-----------------+------------------+\n",
      "| Ent_ID|         LastName|         FirstName|\n",
      "+-------+-----------------+------------------+\n",
      "| Ent_ID|         LastName|         FirstName|\n",
      "|1574372|Veronika Igorevna| Veronika Igorevna|\n",
      "|1574701|       José Jorge|        José Jorge|\n",
      "|1575309|            Kevin|             Kevin|\n",
      "|1575311|   Doneisha Lanee|    Doneisha Lanee|\n",
      "+-------+-----------------+------------------+\n",
      "only showing top 5 rows\n",
      "\n"
     ]
    }
   ],
   "source": [
    "ln_df[ln_df[\"Ent_ID\"], ln_df[\"LastName\"], ln_df[\"FirstName\"]].show(5)"
   ]
  },
  {
   "cell_type": "code",
   "execution_count": 152,
   "metadata": {},
   "outputs": [
    {
     "name": "stdout",
     "output_type": "stream",
     "text": [
      "+------+--------+---------+----+-------------------+\n",
      "|Ent_ID|LastName|FirstName|Name|concat(Name, ,你好)|\n",
      "+------+--------+---------+----+-------------------+\n",
      "|Ent_ID|LastName|FirstName|Name|          Name,你好|\n",
      "|Ent_ID|LastName|FirstName|Name|    Skvortsova,你好|\n",
      "|Ent_ID|LastName|FirstName|Name|    Alperovich,你好|\n",
      "|Ent_ID|LastName|FirstName|Name|         Erwin,你好|\n",
      "|Ent_ID|LastName|FirstName|Name|         Bruce,你好|\n",
      "|Ent_ID|LastName|FirstName|Name|        Wilson,你好|\n",
      "|Ent_ID|LastName|FirstName|Name|       Leblanc,你好|\n",
      "|Ent_ID|LastName|FirstName|Name|         Pratt,你好|\n",
      "|Ent_ID|LastName|FirstName|Name|      Aldridge,你好|\n",
      "|Ent_ID|LastName|FirstName|Name|       Kennard,你好|\n",
      "|Ent_ID|LastName|FirstName|Name|     Tsarukyan,你好|\n",
      "+------+--------+---------+----+-------------------+\n",
      "\n"
     ]
    }
   ],
   "source": [
    "sqlContext.sql(\"\"\"\n",
    "    select \"Ent_ID\", \"LastName\", \"FirstName\",\"Name\",concat(Name, ',你好') from lexisnexis_temp_table\n",
    "\"\"\").show()"
   ]
  },
  {
   "cell_type": "code",
   "execution_count": 155,
   "metadata": {},
   "outputs": [
    {
     "name": "stdout",
     "output_type": "stream",
     "text": [
      "+------+--------+---------+----+-------------------+\n",
      "|Ent_ID|LastName|FirstName|Name|concat(Name, ,你好)|\n",
      "+------+--------+---------+----+-------------------+\n",
      "|Ent_ID|LastName|FirstName|Name|          Name,你好|\n",
      "|Ent_ID|LastName|FirstName|Name|    Skvortsova,你好|\n",
      "|Ent_ID|LastName|FirstName|Name|    Alperovich,你好|\n",
      "|Ent_ID|LastName|FirstName|Name|         Erwin,你好|\n",
      "|Ent_ID|LastName|FirstName|Name|         Bruce,你好|\n",
      "|Ent_ID|LastName|FirstName|Name|        Wilson,你好|\n",
      "|Ent_ID|LastName|FirstName|Name|       Leblanc,你好|\n",
      "|Ent_ID|LastName|FirstName|Name|         Pratt,你好|\n",
      "|Ent_ID|LastName|FirstName|Name|      Aldridge,你好|\n",
      "|Ent_ID|LastName|FirstName|Name|       Kennard,你好|\n",
      "|Ent_ID|LastName|FirstName|Name|     Tsarukyan,你好|\n",
      "+------+--------+---------+----+-------------------+\n",
      "\n"
     ]
    }
   ],
   "source": [
    "session.sql('select \"Ent_ID\", \"LastName\", \"FirstName\",\"Name\",concat(Name, \",你好\") from lexisnexis_temp_table').show()"
   ]
  },
  {
   "cell_type": "markdown",
   "metadata": {},
   "source": [
    "过滤列"
   ]
  },
  {
   "cell_type": "code",
   "execution_count": 160,
   "metadata": {},
   "outputs": [
    {
     "data": {
      "text/plain": [
       "[['\"1574372',\n",
       "  'Skvortsova, Veronika Igorevna',\n",
       "  'Veronika Igorevna',\n",
       "  'Skvortsova',\n",
       "  '',\n",
       "  '',\n",
       "  '',\n",
       "  'Website',\n",
       "  '0',\n",
       "  '',\n",
       "  'Individual',\n",
       "  'PEP',\n",
       "  'Govt Branch Member',\n",
       "  '',\n",
       "  'Head of the Federal Biomedical Agency, effective from January 22, 2020.',\n",
       "  'Career: Head, effective from January 22, 2020, Agency: Federal Biomedical Agency; Head of the Federal Service for Surveillance in Healthcare (Roszdravnadzor), effective from January 21, 2020; Member of the Supervisory Board of the State Corporation Rostec, effective from September 2018; Acting Minister of Healthcare (January 15, 2020 - January 21, 2020); Member of the Executive Board of the World Health Organization (2014 - 2017); Minister of Healthcare (May 21, 2012 - January 15, 2020); Deputy Minister of Healthcare and Social Development (July 15, 2008 - May 22, 2012).  Company name: State Corporation Rostec.',\n",
       "  'November 01, 1960',\n",
       "  'Moscow, , Russia',\n",
       "  'Russian Federation',\n",
       "  '',\n",
       "  '2020',\n",
       "  '\\\\Russia\\\\1574372.png',\n",
       "  '',\n",
       "  '0',\n",
       "  'http://fmbaros.ru/o-fmba-rossii/rukovoditel/;https://tass.ru/encyclopedia/person/skvorcova-veronika-igorevna;https://rostec.ru/about/controls/veronika-igorevna-skvortsova/;https://regnum.ru/news/polit/2835804.html;http://kremlin.ru/acts/news/62587;http://fmbaros.ru/o-fmba-rossii/struktura/;https://rostec.ru/about/controls/#advisory;http://kremlin.ru/events/president/news/57495;http://zampolit.com/dossier/skvortsova-veronika-igorevna/;http://tass.ru/arhiv/598117;https://www.cia.gov/library/publications/resources/world-leaders-1/RS.html;http://cop6russia.org/the-minister-of-healthcare-of-the-russian-federation-veronika-skvortsova-met-the-new-head-of-the-secretariat-of-the-who-framework-convention-on-tobacco-control-dr-vera-luiza-da-costa-e-silva/;http://www.who.int/governance/eb/eb_members/en/;http://www.rosminzdrav.ru/ministry/61/15;http://www.kremlin.ru/news/46829;http://kommersant.ru/doc/2097273',\n",
       "  '2/3/2020 1:03:48 AM',\n",
       "  '5a47a8bd-80dc-4a31-b114-9909c9439a42',\n",
       "  '',\n",
       "  '',\n",
       "  '',\n",
       "  '',\n",
       "  'National',\n",
       "  '0',\n",
       "  '0',\n",
       "  '1',\n",
       "  'Вероника Игоревна Скворцова',\n",
       "  '',\n",
       "  'F',\n",
       "  '2020/7/20',\n",
       "  './ErnstYoungChinaAdvisory/2020-07-20/WorldCompliance_2020-07-20.zip_files\\\\WorldCompliance_2020-07-20.xml\"']]"
      ]
     },
     "execution_count": 160,
     "metadata": {},
     "output_type": "execute_result"
    }
   ],
   "source": [
    "lnRDD.filter(lambda r: r[3]=='Skvortsova' and r[16] == 'November 01, 1960').collect()"
   ]
  },
  {
   "cell_type": "code",
   "execution_count": null,
   "metadata": {},
   "outputs": [],
   "source": []
  }
 ],
 "metadata": {
  "kernelspec": {
   "display_name": "Python 3",
   "language": "python",
   "name": "python3"
  },
  "language_info": {
   "codemirror_mode": {
    "name": "ipython",
    "version": 3
   },
   "file_extension": ".py",
   "mimetype": "text/x-python",
   "name": "python",
   "nbconvert_exporter": "python",
   "pygments_lexer": "ipython3",
   "version": "3.7.3"
  }
 },
 "nbformat": 4,
 "nbformat_minor": 2
}
